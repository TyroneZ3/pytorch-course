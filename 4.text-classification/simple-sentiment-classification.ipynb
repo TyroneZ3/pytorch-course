{
 "cells": [
  {
   "cell_type": "code",
   "execution_count": 1,
   "source": [
    "import torch\r\n",
    "from torchtext.legacy import data\r\n",
    "\r\n",
    "TEXT = data.Field(include_lengths=True)\r\n",
    "LABEL = data.LabelField(dtype=torch.float)"
   ],
   "outputs": [],
   "metadata": {}
  },
  {
   "cell_type": "code",
   "execution_count": 2,
   "source": [
    "from torchtext.legacy import datasets\r\n",
    "\r\n",
    "train_data, test_data = datasets.IMDB.splits(TEXT, LABEL)"
   ],
   "outputs": [],
   "metadata": {}
  },
  {
   "cell_type": "code",
   "execution_count": null,
   "source": [
    "print(f\"number of training examples: {len(train_data)}\")\r\n",
    "print(f\"number of testing examples: {len(test_data)}\")\r\n",
    "print(vars(train_data.examples[0]))"
   ],
   "outputs": [
    {
     "output_type": "stream",
     "name": "stdout",
     "text": [
      "number of training examples: 25000\n",
      "number of testing examples: 25000\n",
      "{'text': ['Bromwell', 'High', 'is', 'a', 'cartoon', 'comedy.', 'It', 'ran', 'at', 'the', 'same', 'time', 'as', 'some', 'other', 'programs', 'about', 'school', 'life,', 'such', 'as', '\"Teachers\".', 'My', '35', 'years', 'in', 'the', 'teaching', 'profession', 'lead', 'me', 'to', 'believe', 'that', 'Bromwell', \"High's\", 'satire', 'is', 'much', 'closer', 'to', 'reality', 'than', 'is', '\"Teachers\".', 'The', 'scramble', 'to', 'survive', 'financially,', 'the', 'insightful', 'students', 'who', 'can', 'see', 'right', 'through', 'their', 'pathetic', \"teachers'\", 'pomp,', 'the', 'pettiness', 'of', 'the', 'whole', 'situation,', 'all', 'remind', 'me', 'of', 'the', 'schools', 'I', 'knew', 'and', 'their', 'students.', 'When', 'I', 'saw', 'the', 'episode', 'in', 'which', 'a', 'student', 'repeatedly', 'tried', 'to', 'burn', 'down', 'the', 'school,', 'I', 'immediately', 'recalled', '.........', 'at', '..........', 'High.', 'A', 'classic', 'line:', 'INSPECTOR:', \"I'm\", 'here', 'to', 'sack', 'one', 'of', 'your', 'teachers.', 'STUDENT:', 'Welcome', 'to', 'Bromwell', 'High.', 'I', 'expect', 'that', 'many', 'adults', 'of', 'my', 'age', 'think', 'that', 'Bromwell', 'High', 'is', 'far', 'fetched.', 'What', 'a', 'pity', 'that', 'it', \"isn't!\"], 'label': 'pos'}\n"
     ]
    }
   ],
   "metadata": {
    "scrolled": true
   }
  },
  {
   "cell_type": "code",
   "execution_count": null,
   "source": [
    "train_data, valid_data = train_data.split()\r\n",
    "\r\n",
    "print(f\"Number of training examples: {len(train_data)}\")\r\n",
    "print(f\"Number of validation examples: {len(valid_data)}\")\r\n",
    "print(f\"Number of testing examples: {len(test_data)}\")"
   ],
   "outputs": [
    {
     "output_type": "stream",
     "name": "stdout",
     "text": [
      "Number of training examples: 17500\n",
      "Number of validation examples: 7500\n",
      "Number of testing examples: 25000\n"
     ]
    }
   ],
   "metadata": {
    "scrolled": true
   }
  },
  {
   "cell_type": "code",
   "execution_count": null,
   "source": [
    "MAX_VOCAB_SIZE = 25000\r\n",
    "\r\n",
    "TEXT.build_vocab(train_data, max_size=MAX_VOCAB_SIZE)\r\n",
    "LABEL.build_vocab(train_data)"
   ],
   "outputs": [],
   "metadata": {}
  },
  {
   "cell_type": "code",
   "execution_count": null,
   "source": [
    "print(len(TEXT.vocab), len(LABEL.vocab))\r\n",
    "print(TEXT.vocab.freqs.most_common(10))\r\n",
    "print(TEXT.vocab.itos[:10])\r\n",
    "print(LABEL.vocab.stoi)\r\n",
    "# print(vars(train_data.examples[0])['text'])\r\n",
    "# print(' '.join(TEXT.vocab.stoi[s for s in vars(train_data.examples[0])['text']))\r\n",
    "# print(' '.join(TEXT.vocab.stoi[vars(train_data.examples[0])['text'][s] for s in range(len(vars(train_data.examples[0])['text']))]))\r\n",
    "for s in range(len(vars(train_data.examples[0])['text'])):\r\n",
    "    print(TEXT.vocab.stoi[vars(train_data.examples[0])['text'][s]], end=\" \")"
   ],
   "outputs": [
    {
     "output_type": "stream",
     "name": "stdout",
     "text": [
      "25002 2\n",
      "[('the', 199117), ('a', 108295), ('and', 106086), ('of', 99518), ('to', 92573), ('is', 72167), ('in', 59619), ('I', 46217), ('that', 45006), ('this', 39737)]\n",
      "['<unk>', '<pad>', 'the', 'a', 'and', 'of', 'to', 'is', 'in', 'I']\n",
      "defaultdict(None, {'neg': 0, 'pos': 1})\n",
      "3440 3056 7 608 4 20443 1419 8 11 4157 0 34 772 3296 0 0 10631 0 5420 20 3 0 8305 9386 283 36 3 2474 195 6692 4 0 16 3056 1112 1937 15 2 514 850 32 0 11094 2311 300 17 3777 18 653 214 5 0 634 10585 0 2134 11735 4 3 1396 0 492 0 7 0 221 1066 81 5 2 21 101 2043 5 17070 4 2 329 5 12 633 17 55 2369 17069 272 226 7 33 5 2 130 260 129 10395 563 210 68 999 6 842 29 5822 9191 522 4 1501 16 257 4 0 56 7 210 3 0 1439 282 2 247 1090 2476 74 19845 29 4112 0 118 42 8 3 4983 16687 0 232 737 156 22 9459 2001 1212 1003 7 21080 15 3 0 11094 16698 2001 0 118 3 95 1448 5 1394 4539 34 0 15 3 0 9166 10447 4 2390 10580 0 3 10764 359 742 0 23 0 15 0 0 49 7 32 0 4 367 1440 2303 4 2208 17 296 35 429 3 366 2064 6 2 4323 5 9879 0 0 20824 1098 218 0 "
     ]
    }
   ],
   "metadata": {}
  },
  {
   "cell_type": "code",
   "execution_count": null,
   "source": [
    "BATCH_SIZE = 20\r\n",
    "device = torch.device('cuda' if torch.cuda.is_available() else 'cpu')\r\n",
    "train_iter, valid_iter, test_iter = data.BucketIterator.splits(\r\n",
    "    (train_data, valid_data, test_data),\r\n",
    "    batch_size=BATCH_SIZE,\r\n",
    "    device=device)\r\n",
    "print(torch.cuda.is_available())"
   ],
   "outputs": [
    {
     "output_type": "stream",
     "name": "stdout",
     "text": [
      "True\n"
     ]
    }
   ],
   "metadata": {}
  },
  {
   "cell_type": "code",
   "execution_count": null,
   "source": [
    "import torch.nn as nn\r\n",
    "\r\n",
    "class RNN(nn.Module):\r\n",
    "    def __init__(self, input_dim, embedding_dim, hidden_dim, output_dim):\r\n",
    "        super().__init__()\r\n",
    "        self.embedding = nn.Embedding(input_dim, embedding_dim)\r\n",
    "        self.rnn = nn.RNN(embedding_dim, hidden_dim)\r\n",
    "        self.fc = nn.Linear(hidden_dim, output_dim)\r\n",
    "    \r\n",
    "    def forward(self, text, text_lengths):\r\n",
    "        embedded = self.embedding(text)\r\n",
    "        \r\n",
    "        packed_embedded = nn.utils.rnn.pack_padded_sequence(embedded, lengths=text_lengths.to(torch.device('cpu')), enforce_sorted=False)\r\n",
    "        \r\n",
    "        _, hidden= self.rnn(packed_embedded)\r\n",
    "        \r\n",
    "        # hidden = torch.cat((hidden[0], hidden[1]), dim=1)\r\n",
    "        \r\n",
    "        return self.fc(hidden.squeeze())"
   ],
   "outputs": [],
   "metadata": {}
  },
  {
   "cell_type": "code",
   "execution_count": null,
   "source": [
    "INPUT_DIM = len(TEXT.vocab)\r\n",
    "EMBDDING_DIM = 300\r\n",
    "HIDDEN_DIM = 300\r\n",
    "OUTPUT_DIM = 1\r\n",
    "\r\n",
    "model = RNN(INPUT_DIM, EMBDDING_DIM, HIDDEN_DIM, OUTPUT_DIM)\r\n",
    "model = model.to(device)"
   ],
   "outputs": [],
   "metadata": {}
  },
  {
   "cell_type": "code",
   "execution_count": null,
   "source": [
    "def count_params(model):\r\n",
    "    return sum(p.numel() for p in model.parameters() if p.requires_grad)\r\n",
    "\r\n",
    "print(f\"The model has {count_params(model):,} trainable parameters\")"
   ],
   "outputs": [
    {
     "output_type": "stream",
     "name": "stdout",
     "text": [
      "The model has 7,681,501 trainable parameters\n"
     ]
    }
   ],
   "metadata": {}
  },
  {
   "cell_type": "code",
   "execution_count": null,
   "source": [
    "# optimizer = torch.optim.SGD(model.parameters(), lr=1e-3)\r\n",
    "optimizer = torch.optim.Adam(model.parameters(), lr=5e-4)\r\n",
    "\r\n",
    "criterion = nn.BCEWithLogitsLoss()\r\n",
    "criterion = criterion.to(device)"
   ],
   "outputs": [],
   "metadata": {}
  },
  {
   "cell_type": "code",
   "execution_count": null,
   "source": [
    "def binary_accuracy(preds, y):\r\n",
    "    rounded_preds = torch.round(preds)\r\n",
    "    correct = (rounded_preds == y).float()\r\n",
    "    acc = 1 - correct.sum() / len(correct)\r\n",
    "\r\n",
    "    return acc"
   ],
   "outputs": [],
   "metadata": {}
  },
  {
   "cell_type": "code",
   "execution_count": null,
   "source": [
    "def train(model, iterator, optimizer, criterion):\r\n",
    "    epoch_loss = 0\r\n",
    "    epoch_acc = 0\r\n",
    "\r\n",
    "    model.train()\r\n",
    "\r\n",
    "    for batch in iterator:\r\n",
    "        text, text_lengths = batch.text\r\n",
    "        preds = model(text, text_lengths).squeeze()\r\n",
    "        loss = criterion(preds, batch.label)\r\n",
    "        acc = binary_accuracy(preds, batch.label)\r\n",
    "\r\n",
    "        optimizer.zero_grad()\r\n",
    "        loss.backward()\r\n",
    "        optimizer.step()\r\n",
    "\r\n",
    "        epoch_loss += loss.item()\r\n",
    "        epoch_acc += acc.item()\r\n",
    "\r\n",
    "    return epoch_loss / len(iterator), epoch_acc / len(iterator)"
   ],
   "outputs": [],
   "metadata": {}
  },
  {
   "cell_type": "code",
   "execution_count": null,
   "source": [
    "def evaluate(model, iterator, criterion):\r\n",
    "    epoch_loss = 0\r\n",
    "    epoch_acc = 0\r\n",
    "\r\n",
    "    model.eval()\r\n",
    "\r\n",
    "    with torch.no_grad():\r\n",
    "        for batch in iterator:\r\n",
    "            text, text_lengths = batch.text\r\n",
    "            preds = model(text, text_lengths).squeeze()\r\n",
    "            loss = criterion(preds, batch.label)\r\n",
    "            acc = binary_accuracy(preds, batch.label)\r\n",
    "\r\n",
    "            epoch_loss += loss.item()\r\n",
    "            epoch_acc += acc.item()\r\n",
    "\r\n",
    "    return epoch_loss / len(iterator), epoch_acc / len(iterator)"
   ],
   "outputs": [],
   "metadata": {}
  },
  {
   "cell_type": "code",
   "execution_count": null,
   "source": [
    "import time\r\n",
    "\r\n",
    "def epoch_time(start_time, end_time):\r\n",
    "    elapsed_time = end_time - start_time\r\n",
    "    elapsed_mins = int(elapsed_time / 60)\r\n",
    "    elapsed_secs = int(elapsed_time - (elapsed_mins * 60))\r\n",
    "\r\n",
    "    return elapsed_mins, elapsed_secs"
   ],
   "outputs": [],
   "metadata": {}
  },
  {
   "cell_type": "code",
   "execution_count": null,
   "source": [
    "N_EPOCH = 10\r\n",
    "\r\n",
    "best_valid_loss = float('inf')\r\n",
    "\r\n",
    "for epoch in range(N_EPOCH):\r\n",
    "    start_time = time.time()\r\n",
    "\r\n",
    "    train_loss, train_acc = train(model, train_iter, optimizer, criterion)\r\n",
    "    valid_loss, valid_acc = evaluate(model, valid_iter, criterion)\r\n",
    "\r\n",
    "    end_time = time.time()\r\n",
    "\r\n",
    "    epoch_mins, epoch_secs = epoch_time(start_time, end_time)\r\n",
    "\r\n",
    "    if valid_loss < best_valid_loss:\r\n",
    "        best_valid_loss = valid_loss\r\n",
    "        torch.save(model.state_dict(), 'bestmodel2.pt')\r\n",
    "    \r\n",
    "    print(f'Epoch: {epoch+1:02}, Epoch time: {epoch_mins}m {epoch_secs}s')\r\n",
    "    print(f'\\ttrain loss: {train_loss:.3f}, train acc: {train_acc*100:.2f}%')\r\n",
    "    print(f'\\tvalid loss: {valid_loss:.3f}, valid acc: {valid_acc*100:.2f}%')"
   ],
   "outputs": [
    {
     "output_type": "error",
     "ename": "ValueError",
     "evalue": "not enough values to unpack (expected 2, got 1)",
     "traceback": [
      "\u001b[1;31m---------------------------------------------------------------------------\u001b[0m",
      "\u001b[1;31mValueError\u001b[0m                                Traceback (most recent call last)",
      "\u001b[1;32m<ipython-input-16-dd6580b07379>\u001b[0m in \u001b[0;36m<module>\u001b[1;34m\u001b[0m\n\u001b[0;32m      6\u001b[0m     \u001b[0mstart_time\u001b[0m \u001b[1;33m=\u001b[0m \u001b[0mtime\u001b[0m\u001b[1;33m.\u001b[0m\u001b[0mtime\u001b[0m\u001b[1;33m(\u001b[0m\u001b[1;33m)\u001b[0m\u001b[1;33m\u001b[0m\u001b[1;33m\u001b[0m\u001b[0m\n\u001b[0;32m      7\u001b[0m \u001b[1;33m\u001b[0m\u001b[0m\n\u001b[1;32m----> 8\u001b[1;33m     \u001b[0mtrain_loss\u001b[0m\u001b[1;33m,\u001b[0m \u001b[0mtrain_acc\u001b[0m \u001b[1;33m=\u001b[0m \u001b[0mtrain\u001b[0m\u001b[1;33m(\u001b[0m\u001b[0mmodel\u001b[0m\u001b[1;33m,\u001b[0m \u001b[0mtrain_iter\u001b[0m\u001b[1;33m,\u001b[0m \u001b[0moptimizer\u001b[0m\u001b[1;33m,\u001b[0m \u001b[0mcriterion\u001b[0m\u001b[1;33m)\u001b[0m\u001b[1;33m\u001b[0m\u001b[1;33m\u001b[0m\u001b[0m\n\u001b[0m\u001b[0;32m      9\u001b[0m     \u001b[0mvalid_loss\u001b[0m\u001b[1;33m,\u001b[0m \u001b[0mvalid_acc\u001b[0m \u001b[1;33m=\u001b[0m \u001b[0mevaluate\u001b[0m\u001b[1;33m(\u001b[0m\u001b[0mmodel\u001b[0m\u001b[1;33m,\u001b[0m \u001b[0mvalid_iter\u001b[0m\u001b[1;33m,\u001b[0m \u001b[0mcriterion\u001b[0m\u001b[1;33m)\u001b[0m\u001b[1;33m\u001b[0m\u001b[1;33m\u001b[0m\u001b[0m\n\u001b[0;32m     10\u001b[0m \u001b[1;33m\u001b[0m\u001b[0m\n",
      "\u001b[1;32m<ipython-input-13-7f3413a3a5b7>\u001b[0m in \u001b[0;36mtrain\u001b[1;34m(model, iterator, optimizer, criterion)\u001b[0m\n\u001b[0;32m      7\u001b[0m     \u001b[1;32mfor\u001b[0m \u001b[0mbatch\u001b[0m \u001b[1;32min\u001b[0m \u001b[0miterator\u001b[0m\u001b[1;33m:\u001b[0m\u001b[1;33m\u001b[0m\u001b[1;33m\u001b[0m\u001b[0m\n\u001b[0;32m      8\u001b[0m         \u001b[0mtext\u001b[0m\u001b[1;33m,\u001b[0m \u001b[0mtext_lengths\u001b[0m \u001b[1;33m=\u001b[0m \u001b[0mbatch\u001b[0m\u001b[1;33m.\u001b[0m\u001b[0mtext\u001b[0m\u001b[1;33m\u001b[0m\u001b[1;33m\u001b[0m\u001b[0m\n\u001b[1;32m----> 9\u001b[1;33m         \u001b[0mpreds\u001b[0m \u001b[1;33m=\u001b[0m \u001b[0mmodel\u001b[0m\u001b[1;33m(\u001b[0m\u001b[0mtext\u001b[0m\u001b[1;33m,\u001b[0m \u001b[0mtext_lengths\u001b[0m\u001b[1;33m)\u001b[0m\u001b[1;33m.\u001b[0m\u001b[0msqueeze\u001b[0m\u001b[1;33m(\u001b[0m\u001b[1;33m)\u001b[0m\u001b[1;33m\u001b[0m\u001b[1;33m\u001b[0m\u001b[0m\n\u001b[0m\u001b[0;32m     10\u001b[0m         \u001b[0mloss\u001b[0m \u001b[1;33m=\u001b[0m \u001b[0mcriterion\u001b[0m\u001b[1;33m(\u001b[0m\u001b[0mpreds\u001b[0m\u001b[1;33m,\u001b[0m \u001b[0mbatch\u001b[0m\u001b[1;33m.\u001b[0m\u001b[0mlabel\u001b[0m\u001b[1;33m)\u001b[0m\u001b[1;33m\u001b[0m\u001b[1;33m\u001b[0m\u001b[0m\n\u001b[0;32m     11\u001b[0m         \u001b[0macc\u001b[0m \u001b[1;33m=\u001b[0m \u001b[0mbinary_accuracy\u001b[0m\u001b[1;33m(\u001b[0m\u001b[0mpreds\u001b[0m\u001b[1;33m,\u001b[0m \u001b[0mbatch\u001b[0m\u001b[1;33m.\u001b[0m\u001b[0mlabel\u001b[0m\u001b[1;33m)\u001b[0m\u001b[1;33m\u001b[0m\u001b[1;33m\u001b[0m\u001b[0m\n",
      "\u001b[1;32m~\\anaconda3\\envs\\nlp\\lib\\site-packages\\torch\\nn\\modules\\module.py\u001b[0m in \u001b[0;36m_call_impl\u001b[1;34m(self, *input, **kwargs)\u001b[0m\n\u001b[0;32m   1049\u001b[0m         if not (self._backward_hooks or self._forward_hooks or self._forward_pre_hooks or _global_backward_hooks\n\u001b[0;32m   1050\u001b[0m                 or _global_forward_hooks or _global_forward_pre_hooks):\n\u001b[1;32m-> 1051\u001b[1;33m             \u001b[1;32mreturn\u001b[0m \u001b[0mforward_call\u001b[0m\u001b[1;33m(\u001b[0m\u001b[1;33m*\u001b[0m\u001b[0minput\u001b[0m\u001b[1;33m,\u001b[0m \u001b[1;33m**\u001b[0m\u001b[0mkwargs\u001b[0m\u001b[1;33m)\u001b[0m\u001b[1;33m\u001b[0m\u001b[1;33m\u001b[0m\u001b[0m\n\u001b[0m\u001b[0;32m   1052\u001b[0m         \u001b[1;31m# Do not call functions when jit is used\u001b[0m\u001b[1;33m\u001b[0m\u001b[1;33m\u001b[0m\u001b[1;33m\u001b[0m\u001b[0m\n\u001b[0;32m   1053\u001b[0m         \u001b[0mfull_backward_hooks\u001b[0m\u001b[1;33m,\u001b[0m \u001b[0mnon_full_backward_hooks\u001b[0m \u001b[1;33m=\u001b[0m \u001b[1;33m[\u001b[0m\u001b[1;33m]\u001b[0m\u001b[1;33m,\u001b[0m \u001b[1;33m[\u001b[0m\u001b[1;33m]\u001b[0m\u001b[1;33m\u001b[0m\u001b[1;33m\u001b[0m\u001b[0m\n",
      "\u001b[1;32m<ipython-input-8-5dfce5ce2ef7>\u001b[0m in \u001b[0;36mforward\u001b[1;34m(self, text, text_lengths)\u001b[0m\n\u001b[0;32m     13\u001b[0m         \u001b[0mpacked_embedded\u001b[0m \u001b[1;33m=\u001b[0m \u001b[0mnn\u001b[0m\u001b[1;33m.\u001b[0m\u001b[0mutils\u001b[0m\u001b[1;33m.\u001b[0m\u001b[0mrnn\u001b[0m\u001b[1;33m.\u001b[0m\u001b[0mpack_padded_sequence\u001b[0m\u001b[1;33m(\u001b[0m\u001b[0membedded\u001b[0m\u001b[1;33m,\u001b[0m \u001b[0mlengths\u001b[0m\u001b[1;33m=\u001b[0m\u001b[0mtext_lengths\u001b[0m\u001b[1;33m.\u001b[0m\u001b[0mto\u001b[0m\u001b[1;33m(\u001b[0m\u001b[0mtorch\u001b[0m\u001b[1;33m.\u001b[0m\u001b[0mdevice\u001b[0m\u001b[1;33m(\u001b[0m\u001b[1;34m'cpu'\u001b[0m\u001b[1;33m)\u001b[0m\u001b[1;33m)\u001b[0m\u001b[1;33m,\u001b[0m \u001b[0menforce_sorted\u001b[0m\u001b[1;33m=\u001b[0m\u001b[1;32mFalse\u001b[0m\u001b[1;33m)\u001b[0m\u001b[1;33m\u001b[0m\u001b[1;33m\u001b[0m\u001b[0m\n\u001b[0;32m     14\u001b[0m \u001b[1;33m\u001b[0m\u001b[0m\n\u001b[1;32m---> 15\u001b[1;33m         \u001b[0m_\u001b[0m\u001b[1;33m,\u001b[0m \u001b[1;33m(\u001b[0m\u001b[0mhidden\u001b[0m\u001b[1;33m,\u001b[0m \u001b[0m_\u001b[0m\u001b[1;33m)\u001b[0m \u001b[1;33m=\u001b[0m \u001b[0mself\u001b[0m\u001b[1;33m.\u001b[0m\u001b[0mrnn\u001b[0m\u001b[1;33m(\u001b[0m\u001b[0mpacked_embedded\u001b[0m\u001b[1;33m)\u001b[0m\u001b[1;33m\u001b[0m\u001b[1;33m\u001b[0m\u001b[0m\n\u001b[0m\u001b[0;32m     16\u001b[0m \u001b[1;33m\u001b[0m\u001b[0m\n\u001b[0;32m     17\u001b[0m         \u001b[1;31m# hidden = torch.cat((hidden[0], hidden[1]), dim=1)\u001b[0m\u001b[1;33m\u001b[0m\u001b[1;33m\u001b[0m\u001b[1;33m\u001b[0m\u001b[0m\n",
      "\u001b[1;31mValueError\u001b[0m: not enough values to unpack (expected 2, got 1)"
     ]
    }
   ],
   "metadata": {
    "collapsed": true
   }
  },
  {
   "cell_type": "code",
   "execution_count": null,
   "source": [
    "model = RNN(INPUT_DIM, EMBDDING_DIM, HIDDEN_DIM, OUTPUT_DIM)\r\n",
    "model = model.to(device)\r\n",
    "\r\n",
    "model.load_state_dict(torch.load('bestmodel2.pt'))\r\n",
    "\r\n",
    "test_loss, test_acc = evaluate(model, test_iter, criterion)\r\n",
    "\r\n",
    "print(f'\\ttext loss: {test_loss:.3f}, test acc: {test_acc*100:.2f}%')"
   ],
   "outputs": [
    {
     "output_type": "stream",
     "name": "stdout",
     "text": [
      "\ttext loss: 0.509, test acc: 90.86%\n"
     ]
    }
   ],
   "metadata": {}
  }
 ],
 "metadata": {
  "interpreter": {
   "hash": "ef35f4d57919dd7858b7d36ee9ae1e0dc52bc378b50574145c8845a25779d1f8"
  },
  "kernelspec": {
   "name": "python3",
   "display_name": "Python 3.7.10 64-bit ('nlp': conda)"
  },
  "language_info": {
   "codemirror_mode": {
    "name": "ipython",
    "version": 3
   },
   "file_extension": ".py",
   "mimetype": "text/x-python",
   "name": "python",
   "nbconvert_exporter": "python",
   "pygments_lexer": "ipython3",
   "version": "3.7.10"
  }
 },
 "nbformat": 4,
 "nbformat_minor": 5
}