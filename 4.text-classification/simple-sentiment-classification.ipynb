{
 "cells": [
  {
   "cell_type": "code",
   "execution_count": 2,
   "source": [
    "import torch\r\n",
    "from torchtext.legacy import data\r\n",
    "\r\n",
    "TEXT = data.Field()\r\n",
    "LABEL = data.LabelField(dtype=torch.float)"
   ],
   "outputs": [],
   "metadata": {}
  },
  {
   "cell_type": "code",
   "execution_count": 3,
   "source": [
    "from torchtext.legacy import datasets\r\n",
    "\r\n",
    "train_data, test_data = datasets.IMDB.splits(TEXT, LABEL)"
   ],
   "outputs": [],
   "metadata": {}
  },
  {
   "cell_type": "code",
   "execution_count": 4,
   "source": [
    "print(f\"number of training examples: {len(train_data)}\")\r\n",
    "print(f\"number of testing examples: {len(test_data)}\")\r\n",
    "print(vars(train_data.examples[0]))"
   ],
   "outputs": [
    {
     "output_type": "stream",
     "name": "stdout",
     "text": [
      "number of training examples: 25000\n",
      "number of testing examples: 25000\n",
      "{'text': ['Bromwell', 'High', 'is', 'a', 'cartoon', 'comedy.', 'It', 'ran', 'at', 'the', 'same', 'time', 'as', 'some', 'other', 'programs', 'about', 'school', 'life,', 'such', 'as', '\"Teachers\".', 'My', '35', 'years', 'in', 'the', 'teaching', 'profession', 'lead', 'me', 'to', 'believe', 'that', 'Bromwell', \"High's\", 'satire', 'is', 'much', 'closer', 'to', 'reality', 'than', 'is', '\"Teachers\".', 'The', 'scramble', 'to', 'survive', 'financially,', 'the', 'insightful', 'students', 'who', 'can', 'see', 'right', 'through', 'their', 'pathetic', \"teachers'\", 'pomp,', 'the', 'pettiness', 'of', 'the', 'whole', 'situation,', 'all', 'remind', 'me', 'of', 'the', 'schools', 'I', 'knew', 'and', 'their', 'students.', 'When', 'I', 'saw', 'the', 'episode', 'in', 'which', 'a', 'student', 'repeatedly', 'tried', 'to', 'burn', 'down', 'the', 'school,', 'I', 'immediately', 'recalled', '.........', 'at', '..........', 'High.', 'A', 'classic', 'line:', 'INSPECTOR:', \"I'm\", 'here', 'to', 'sack', 'one', 'of', 'your', 'teachers.', 'STUDENT:', 'Welcome', 'to', 'Bromwell', 'High.', 'I', 'expect', 'that', 'many', 'adults', 'of', 'my', 'age', 'think', 'that', 'Bromwell', 'High', 'is', 'far', 'fetched.', 'What', 'a', 'pity', 'that', 'it', \"isn't!\"], 'label': 'pos'}\n"
     ]
    }
   ],
   "metadata": {
    "scrolled": true
   }
  },
  {
   "cell_type": "code",
   "execution_count": 5,
   "source": [
    "train_data, valid_data = train_data.split()\r\n",
    "\r\n",
    "print(f\"Number of training examples: {len(train_data)}\")\r\n",
    "print(f\"Number of validation examples: {len(valid_data)}\")\r\n",
    "print(f\"Number of testing examples: {len(test_data)}\")"
   ],
   "outputs": [
    {
     "output_type": "stream",
     "name": "stdout",
     "text": [
      "Number of training examples: 17500\n",
      "Number of validation examples: 7500\n",
      "Number of testing examples: 25000\n"
     ]
    }
   ],
   "metadata": {
    "scrolled": true
   }
  },
  {
   "cell_type": "code",
   "execution_count": 6,
   "source": [
    "MAX_VOCAB_SIZE = 25000\r\n",
    "\r\n",
    "TEXT.build_vocab(train_data, max_size=MAX_VOCAB_SIZE)\r\n",
    "LABEL.build_vocab(train_data)"
   ],
   "outputs": [],
   "metadata": {}
  },
  {
   "cell_type": "code",
   "execution_count": 7,
   "source": [
    "print(len(TEXT.vocab), len(LABEL.vocab))\r\n",
    "print(TEXT.vocab.freqs.most_common(10))\r\n",
    "print(TEXT.vocab.itos[:10])\r\n",
    "print(LABEL.vocab.stoi)\r\n",
    "# print(vars(train_data.examples[0])['text'])\r\n",
    "# print(' '.join(TEXT.vocab.stoi[s for s in vars(train_data.examples[0])['text']))\r\n",
    "# print(' '.join(TEXT.vocab.stoi[vars(train_data.examples[0])['text'][s] for s in range(len(vars(train_data.examples[0])['text']))]))\r\n",
    "for s in range(len(vars(train_data.examples[0])['text'])):\r\n",
    "    print(TEXT.vocab.stoi[vars(train_data.examples[0])['text'][s]], end=\" \")"
   ],
   "outputs": [
    {
     "output_type": "stream",
     "name": "stdout",
     "text": [
      "25002 2\n",
      "[('the', 201066), ('a', 108665), ('and', 106650), ('of', 100438), ('to', 93156), ('is', 71982), ('in', 59930), ('I', 46018), ('that', 45031), ('this', 40068)]\n",
      "['<unk>', '<pad>', 'the', 'a', 'and', 'of', 'to', 'is', 'in', 'I']\n",
      "defaultdict(None, {'neg': 0, 'pos': 1})\n",
      "8197 22396 0 1421 102 0 1412 4 16614 57 7 26 55 33 5 2 129 7138 135 16 0 12 7 33 5 2 2128 417 1608 11838 10191 1448 0 2068 1097 2 1194 8 18099 17 2 0 19 52 7617 3105 3256 3 0 0 12 14 20388 17 2 11838 299 975 5 0 4 4834 20566 334 14 743 15 0 358 0 57 575 14 108 53 17 2 7138 6 1430 989 4 12 14 492 932 31 2 7138 30 2 179 5 0 13 0 1095 0 2170 12897 9794 0 0 4 8690 45 5 1581 10 29 77 27 14261 281 38 4457 30 23 2248 0 41 23160 4 23 10899 4 14715 17608 332 6 75 3838 5 2 0 1459 38 158 0 4 661 2 10899 4 17608 6 0 107 13 0 7 576 239 8 11 142 411 3966 110 101 331 3 0 31 8004 0 22 0 29 368 23 5492 503 0 4 1864 0 7 16769 245 26 6 0 1721 239 17875 2 9491 5 0 16753 290 144 2 429 0 4 2 0 567 16 37 210 1234 20064 13 0 2 0 2223 31 7276 0 7 33 5 2 81 1893 290 124 130 1034 8 3 7138 142 540 23 0 5974 29 86 211 1430 17 3 0 56 29 156 10984 136 348 17548 8197 22396 0 7 3 2385 795 2 7138 135 16 0 395 6262 7617 570 77 363 11 5990 133 321 19618 2424 1774 45 5 1284 "
     ]
    }
   ],
   "metadata": {}
  },
  {
   "cell_type": "code",
   "execution_count": 8,
   "source": [
    "BATCH_SIZE = 20\r\n",
    "device = torch.device('cuda' if torch.cuda.is_available() else 'cpu')\r\n",
    "train_iter, valid_iter, test_iter = data.BucketIterator.splits(\r\n",
    "    (train_data, valid_data, test_data),\r\n",
    "    batch_size=BATCH_SIZE,\r\n",
    "    device=device)\r\n",
    "print(torch.cuda.is_available())"
   ],
   "outputs": [
    {
     "output_type": "stream",
     "name": "stdout",
     "text": [
      "True\n"
     ]
    }
   ],
   "metadata": {}
  },
  {
   "cell_type": "code",
   "execution_count": 9,
   "source": [
    "import torch.nn as nn\r\n",
    "\r\n",
    "class RNN(nn.Module):\r\n",
    "    def __init__(self, input_dim, embedding_dim, hidden_dim, output_dim):\r\n",
    "        super().__init__()\r\n",
    "        self.embedding = nn.Embedding(input_dim, embedding_dim)\r\n",
    "        self.rnn = nn.LSTM(embedding_dim, hidden_dim, bidirectional=True)\r\n",
    "        self.fc = nn.Linear(hidden_dim*2, output_dim)\r\n",
    "    \r\n",
    "    def forward(self, text):\r\n",
    "        embedded = self.embedding(text)\r\n",
    "        \r\n",
    "        packed_embedded = nn.utils.rnn.pack_padded_sequence(embedded, lengths=[embedded.size(0) for i in range(embedded.size(1))])\r\n",
    "        \r\n",
    "        _, (hidden, _) = self.rnn(packed_embedded)\r\n",
    "        \r\n",
    "        hidden = torch.cat((hidden[0], hidden[1]), dim=1)\r\n",
    "        \r\n",
    "        return self.fc(hidden.squeeze())"
   ],
   "outputs": [],
   "metadata": {}
  },
  {
   "cell_type": "code",
   "execution_count": 10,
   "source": [
    "INPUT_DIM = len(TEXT.vocab)\r\n",
    "EMBDDING_DIM = 300\r\n",
    "HIDDEN_DIM = 300\r\n",
    "OUTPUT_DIM = 1\r\n",
    "\r\n",
    "model = RNN(INPUT_DIM, EMBDDING_DIM, HIDDEN_DIM, OUTPUT_DIM)\r\n",
    "model = model.to(device)"
   ],
   "outputs": [],
   "metadata": {}
  },
  {
   "cell_type": "code",
   "execution_count": 11,
   "source": [
    "def count_params(model):\r\n",
    "    return sum(p.numel() for p in model.parameters() if p.requires_grad)\r\n",
    "\r\n",
    "print(f\"The model has {count_params(model):,} trainable parameters\")"
   ],
   "outputs": [
    {
     "output_type": "stream",
     "name": "stdout",
     "text": [
      "The model has 8,946,001 trainable parameters\n"
     ]
    }
   ],
   "metadata": {}
  },
  {
   "cell_type": "code",
   "execution_count": 12,
   "source": [
    "# optimizer = torch.optim.SGD(model.parameters(), lr=1e-3)\r\n",
    "optimizer = torch.optim.Adam(model.parameters(), lr=5e-4)\r\n",
    "\r\n",
    "criterion = nn.BCEWithLogitsLoss()\r\n",
    "criterion = criterion.to(device)"
   ],
   "outputs": [],
   "metadata": {}
  },
  {
   "cell_type": "code",
   "execution_count": 13,
   "source": [
    "def binary_accuracy(preds, y):\r\n",
    "    rounded_preds = torch.round(preds)\r\n",
    "    correct = (rounded_preds == y).float()\r\n",
    "    acc = 1 - correct.sum() / len(correct)\r\n",
    "\r\n",
    "    return acc"
   ],
   "outputs": [],
   "metadata": {}
  },
  {
   "cell_type": "code",
   "execution_count": 14,
   "source": [
    "def train(model, iterator, optimizer, criterion):\r\n",
    "    epoch_loss = 0\r\n",
    "    epoch_acc = 0\r\n",
    "\r\n",
    "    model.train()\r\n",
    "\r\n",
    "    for batch in iterator:\r\n",
    "        preds = model(batch.text).squeeze()\r\n",
    "        loss = criterion(preds, batch.label)\r\n",
    "        acc = binary_accuracy(preds, batch.label)\r\n",
    "\r\n",
    "        optimizer.zero_grad()\r\n",
    "        loss.backward()\r\n",
    "        optimizer.step()\r\n",
    "\r\n",
    "        epoch_loss += loss.item()\r\n",
    "        epoch_acc += acc.item()\r\n",
    "\r\n",
    "    return epoch_loss / len(iterator), epoch_acc / len(iterator)"
   ],
   "outputs": [],
   "metadata": {}
  },
  {
   "cell_type": "code",
   "execution_count": 15,
   "source": [
    "def evaluate(model, iterator, criterion):\r\n",
    "    epoch_loss = 0\r\n",
    "    epoch_acc = 0\r\n",
    "\r\n",
    "    model.eval()\r\n",
    "\r\n",
    "    with torch.no_grad():\r\n",
    "        for batch in iterator:\r\n",
    "            preds = model(batch.text).squeeze()\r\n",
    "            loss = criterion(preds, batch.label)\r\n",
    "            acc = binary_accuracy(preds, batch.label)\r\n",
    "\r\n",
    "            epoch_loss += loss.item()\r\n",
    "            epoch_acc += acc.item()\r\n",
    "\r\n",
    "    return epoch_loss / len(iterator), epoch_acc / len(iterator)"
   ],
   "outputs": [],
   "metadata": {}
  },
  {
   "cell_type": "code",
   "execution_count": 16,
   "source": [
    "import time\r\n",
    "\r\n",
    "def epoch_time(start_time, end_time):\r\n",
    "    elapsed_time = end_time - start_time\r\n",
    "    elapsed_mins = int(elapsed_time / 60)\r\n",
    "    elapsed_secs = int(elapsed_time - (elapsed_mins * 60))\r\n",
    "\r\n",
    "    return elapsed_mins, elapsed_secs"
   ],
   "outputs": [],
   "metadata": {}
  },
  {
   "cell_type": "code",
   "execution_count": 18,
   "source": [
    "N_EPOCH = 10\r\n",
    "\r\n",
    "best_valid_loss = float('inf')\r\n",
    "\r\n",
    "for epoch in range(N_EPOCH):\r\n",
    "    start_time = time.time()\r\n",
    "\r\n",
    "    train_loss, train_acc = train(model, train_iter, optimizer, criterion)\r\n",
    "    valid_loss, valid_acc = evaluate(model, valid_iter, criterion)\r\n",
    "\r\n",
    "    end_time = time.time()\r\n",
    "\r\n",
    "    epoch_mins, epoch_secs = epoch_time(start_time, end_time)\r\n",
    "\r\n",
    "    if valid_loss < best_valid_loss:\r\n",
    "        best_valid_loss = valid_loss\r\n",
    "        torch.save(model.state_dict(), 'bestmodel2.pt')\r\n",
    "    \r\n",
    "    print(f'Epoch: {epoch+1:02}, Epoch time: {epoch_mins}m {epoch_secs}s')\r\n",
    "    print(f'\\ttrain loss: {train_loss:.3f}, train acc: {train_acc*100:.2f}%')\r\n",
    "    print(f'\\tvalid loss: {valid_loss:.3f}, valid acc: {valid_acc*100:.2f}%')"
   ],
   "outputs": [
    {
     "output_type": "stream",
     "name": "stdout",
     "text": [
      "Epoch: 01, Epoch time: 2m 1s\n",
      "\ttrain loss: 0.091, train acc: 97.18%\n",
      "\tvalid loss: 0.511, valid acc: 95.05%\n",
      "Epoch: 02, Epoch time: 2m 1s\n",
      "\ttrain loss: 0.044, train acc: 98.59%\n",
      "\tvalid loss: 0.625, valid acc: 96.85%\n",
      "Epoch: 03, Epoch time: 2m 0s\n",
      "\ttrain loss: 0.021, train acc: 99.42%\n",
      "\tvalid loss: 0.686, valid acc: 96.15%\n",
      "Epoch: 04, Epoch time: 1m 59s\n",
      "\ttrain loss: 0.017, train acc: 99.57%\n",
      "\tvalid loss: 0.869, valid acc: 97.48%\n",
      "Epoch: 05, Epoch time: 1m 59s\n",
      "\ttrain loss: 0.012, train acc: 99.63%\n",
      "\tvalid loss: 0.821, valid acc: 98.03%\n",
      "Epoch: 06, Epoch time: 1m 59s\n",
      "\ttrain loss: 0.011, train acc: 99.74%\n",
      "\tvalid loss: 0.862, valid acc: 98.17%\n",
      "Epoch: 07, Epoch time: 2m 0s\n",
      "\ttrain loss: 0.006, train acc: 99.86%\n",
      "\tvalid loss: 0.862, valid acc: 97.08%\n",
      "Epoch: 08, Epoch time: 2m 0s\n",
      "\ttrain loss: 0.007, train acc: 99.70%\n",
      "\tvalid loss: 1.001, valid acc: 98.40%\n",
      "Epoch: 09, Epoch time: 1m 58s\n",
      "\ttrain loss: 0.013, train acc: 99.67%\n",
      "\tvalid loss: 0.862, valid acc: 97.56%\n",
      "Epoch: 10, Epoch time: 1m 59s\n",
      "\ttrain loss: 0.007, train acc: 99.86%\n",
      "\tvalid loss: 0.948, valid acc: 98.09%\n"
     ]
    }
   ],
   "metadata": {
    "collapsed": true
   }
  },
  {
   "cell_type": "code",
   "execution_count": 19,
   "source": [
    "model = RNN(INPUT_DIM, EMBDDING_DIM, HIDDEN_DIM, OUTPUT_DIM)\r\n",
    "model = model.to(device)\r\n",
    "\r\n",
    "model.load_state_dict(torch.load('bestmodel2.pt'))\r\n",
    "\r\n",
    "test_loss, test_acc = evaluate(model, test_iter, criterion)\r\n",
    "\r\n",
    "print(f'\\ttext loss: {test_loss:.3f}, test acc: {test_acc*100:.2f}%')"
   ],
   "outputs": [
    {
     "output_type": "stream",
     "name": "stdout",
     "text": [
      "\ttext loss: 0.525, test acc: 94.82%\n"
     ]
    }
   ],
   "metadata": {}
  }
 ],
 "metadata": {
  "interpreter": {
   "hash": "ef35f4d57919dd7858b7d36ee9ae1e0dc52bc378b50574145c8845a25779d1f8"
  },
  "kernelspec": {
   "name": "python3",
   "display_name": "Python 3.7.10 64-bit ('nlp': conda)"
  },
  "language_info": {
   "codemirror_mode": {
    "name": "ipython",
    "version": 3
   },
   "file_extension": ".py",
   "mimetype": "text/x-python",
   "name": "python",
   "nbconvert_exporter": "python",
   "pygments_lexer": "ipython3",
   "version": "3.7.10"
  }
 },
 "nbformat": 4,
 "nbformat_minor": 5
}