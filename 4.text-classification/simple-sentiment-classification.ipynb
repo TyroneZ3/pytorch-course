{
 "cells": [
  {
   "cell_type": "code",
   "execution_count": null,
   "source": [
    "import sys\r\n",
    "print(sys.executable)"
   ],
   "outputs": [],
   "metadata": {}
  },
  {
   "cell_type": "code",
   "execution_count": 1,
   "source": [
    "import torch\r\n",
    "from torchtext.legacy import data\r\n",
    "\r\n",
    "TEXT = data.Field()\r\n",
    "LABEL = data.LabelField(dtype=torch.float)"
   ],
   "outputs": [],
   "metadata": {}
  },
  {
   "cell_type": "code",
   "execution_count": 2,
   "source": [
    "from torchtext.legacy import datasets\r\n",
    "\r\n",
    "train_data, test_data = datasets.IMDB.splits(TEXT, LABEL)"
   ],
   "outputs": [],
   "metadata": {}
  },
  {
   "cell_type": "code",
   "execution_count": null,
   "source": [
    "print(f\"number of training examples: {len(train_data)}\")\r\n",
    "print(f\"number of testing examples: {len(test_data)}\")\r\n",
    "print(vars(train_data.examples[0]))"
   ],
   "outputs": [],
   "metadata": {
    "scrolled": true
   }
  },
  {
   "cell_type": "code",
   "execution_count": null,
   "source": [
    "train_data, valid_data = train_data.split()\r\n",
    "\r\n",
    "print(f\"Number of training examples: {len(train_data)}\")\r\n",
    "print(f\"Number of validation examples: {len(valid_data)}\")\r\n",
    "print(f\"Number of testing examples: {len(test_data)}\")"
   ],
   "outputs": [],
   "metadata": {
    "scrolled": true
   }
  },
  {
   "cell_type": "code",
   "execution_count": 5,
   "source": [
    "MAX_VOCAB_SIZE = 25000\r\n",
    "\r\n",
    "TEXT.build_vocab(train_data, max_size=MAX_VOCAB_SIZE)\r\n",
    "LABEL.build_vocab(train_data)"
   ],
   "outputs": [],
   "metadata": {}
  },
  {
   "cell_type": "code",
   "execution_count": 6,
   "source": [
    "print(len(TEXT.vocab), len(LABEL.vocab))\r\n",
    "print(TEXT.vocab.freqs.most_common(10))\r\n",
    "print(TEXT.vocab.itos[:10])\r\n",
    "print(LABEL.vocab.stoi)\r\n",
    "# print(vars(train_data.examples[0])['text'])\r\n",
    "# print(' '.join(TEXT.vocab.stoi[s for s in vars(train_data.examples[0])['text']))\r\n",
    "# print(' '.join(TEXT.vocab.stoi[vars(train_data.examples[0])['text'][s] for s in range(len(vars(train_data.examples[0])['text']))]))\r\n",
    "for s in range(len(vars(train_data.examples[0])['text'])):\r\n",
    "    print(TEXT.vocab.stoi[vars(train_data.examples[0])['text'][s]], end=\" \")"
   ],
   "outputs": [
    {
     "output_type": "stream",
     "name": "stdout",
     "text": [
      "25002 2\n",
      "[('the', 200153), ('a', 108207), ('and', 106215), ('of', 99734), ('to', 92420), ('is', 71838), ('in', 59919), ('I', 46364), ('that', 44990), ('this', 39813)]\n",
      "['<unk>', '<pad>', 'the', 'a', 'and', 'of', 'to', 'is', 'in', 'I']\n",
      "defaultdict(None, {'pos': 0, 'neg': 1})\n",
      "18 21 567 36 3 0 17 0 0 881 1246 9 103 184 77 681 16 2 4300 322 5 2 665 2483 6 0 1012 0 4 1752 37 10 9760 42 0 35 7309 11 0 2562 3 216 0 0 8 11 21 22 240 11083 4124 2638 11 21 184 93 2520 9 209 3860 12 51 18369 184 72 4933 3 1673 580 19 104 21 0 162 1539 0 4058 2163 6 149 35 40 26 117 32 8 3 4167 "
     ]
    }
   ],
   "metadata": {}
  },
  {
   "cell_type": "code",
   "execution_count": 7,
   "source": [
    "BATCH_SIZE = 20\r\n",
    "device = torch.device('cuda' if torch.cuda.is_available() else 'cpu')\r\n",
    "train_iter, valid_iter, test_iter = data.BucketIterator.splits(\r\n",
    "    (train_data, valid_data, test_data),\r\n",
    "    batch_size=BATCH_SIZE,\r\n",
    "    device=device)\r\n",
    "print(torch.cuda.is_available())"
   ],
   "outputs": [
    {
     "output_type": "stream",
     "name": "stdout",
     "text": [
      "True\n"
     ]
    }
   ],
   "metadata": {}
  },
  {
   "cell_type": "code",
   "execution_count": 8,
   "source": [
    "import torch.nn as nn\r\n",
    "\r\n",
    "class RNN(nn.Module):\r\n",
    "    def __init__(self, input_dim, embedding_dim, hidden_dim, output_dim):\r\n",
    "        super().__init__()\r\n",
    "        self.embedding = nn.Embedding(input_dim, embedding_dim)\r\n",
    "        self.rnn = nn.LSTM(embedding_dim, hidden_dim, bidirectional=True)\r\n",
    "        self.fc = nn.Linear(hidden_dim*2, output_dim)\r\n",
    "    \r\n",
    "    def forward(self, text):\r\n",
    "        embedded = self.embedding(text)\r\n",
    "        \r\n",
    "        packed_embedded = nn.utils.rnn.pack_padded_sequence(embedded, lengths=[embedded.size(0) for i in range(embedded.size(1))])\r\n",
    "        \r\n",
    "        _, (hidden, _) = self.rnn(packed_embedded)\r\n",
    "        \r\n",
    "        hidden = torch.cat((hidden[0], hidden[1]), dim=1)\r\n",
    "        \r\n",
    "        return self.fc(hidden.squeeze())"
   ],
   "outputs": [],
   "metadata": {}
  },
  {
   "cell_type": "code",
   "execution_count": 9,
   "source": [
    "INPUT_DIM = len(TEXT.vocab)\r\n",
    "EMBDDING_DIM = 300\r\n",
    "HIDDEN_DIM = 300\r\n",
    "OUTPUT_DIM = 1\r\n",
    "\r\n",
    "model = RNN(INPUT_DIM, EMBDDING_DIM, HIDDEN_DIM, OUTPUT_DIM)\r\n",
    "model = model.to(device)"
   ],
   "outputs": [],
   "metadata": {}
  },
  {
   "cell_type": "code",
   "execution_count": 10,
   "source": [
    "def count_params(model):\r\n",
    "    return sum(p.numel() for p in model.parameters() if p.requires_grad)\r\n",
    "\r\n",
    "print(f\"The model has {count_params(model):,} trainable parameters\")"
   ],
   "outputs": [
    {
     "output_type": "stream",
     "name": "stdout",
     "text": [
      "The model has 8,946,001 trainable parameters\n"
     ]
    }
   ],
   "metadata": {}
  },
  {
   "cell_type": "code",
   "execution_count": 11,
   "source": [
    "# optimizer = torch.optim.SGD(model.parameters(), lr=1e-3)\r\n",
    "optimizer = torch.optim.Adam(model.parameters(), lr=5e-4)\r\n",
    "\r\n",
    "criterion = nn.BCEWithLogitsLoss()\r\n",
    "criterion = criterion.to(device)"
   ],
   "outputs": [],
   "metadata": {}
  },
  {
   "cell_type": "code",
   "execution_count": 12,
   "source": [
    "def binary_accuracy(preds, y):\r\n",
    "    rounded_preds = torch.round(preds)\r\n",
    "    correct = (rounded_preds == y).float()\r\n",
    "    acc = 1 - correct.sum() / len(correct)\r\n",
    "\r\n",
    "    return acc"
   ],
   "outputs": [],
   "metadata": {}
  },
  {
   "cell_type": "code",
   "execution_count": 13,
   "source": [
    "def train(model, iterator, optimizer, criterion):\r\n",
    "    epoch_loss = 0\r\n",
    "    epoch_acc = 0\r\n",
    "\r\n",
    "    model.train()\r\n",
    "\r\n",
    "    for batch in iterator:\r\n",
    "        preds = model(batch.text).squeeze()\r\n",
    "        loss = criterion(preds, batch.label)\r\n",
    "        acc = binary_accuracy(preds, batch.label)\r\n",
    "\r\n",
    "        optimizer.zero_grad()\r\n",
    "        loss.backward()\r\n",
    "        optimizer.step()\r\n",
    "\r\n",
    "        epoch_loss += loss.item()\r\n",
    "        epoch_acc += acc.item()\r\n",
    "\r\n",
    "    return epoch_loss / len(iterator), epoch_acc / len(iterator)"
   ],
   "outputs": [],
   "metadata": {}
  },
  {
   "cell_type": "code",
   "execution_count": 14,
   "source": [
    "def evaluate(model, iterator, criterion):\r\n",
    "    epoch_loss = 0\r\n",
    "    epoch_acc = 0\r\n",
    "\r\n",
    "    model.eval()\r\n",
    "\r\n",
    "    with torch.no_grad():\r\n",
    "        for batch in iterator:\r\n",
    "            preds = model(batch.text).squeeze()\r\n",
    "            loss = criterion(preds, batch.label)\r\n",
    "            acc = binary_accuracy(preds, batch.label)\r\n",
    "\r\n",
    "            epoch_loss += loss.item()\r\n",
    "            epoch_acc += acc.item()\r\n",
    "\r\n",
    "    return epoch_loss / len(iterator), epoch_acc / len(iterator)"
   ],
   "outputs": [],
   "metadata": {}
  },
  {
   "cell_type": "code",
   "execution_count": 15,
   "source": [
    "import time\r\n",
    "\r\n",
    "def epoch_time(start_time, end_time):\r\n",
    "    elapsed_time = end_time - start_time\r\n",
    "    elapsed_mins = int(elapsed_time / 60)\r\n",
    "    elapsed_secs = int(elapsed_time - (elapsed_mins * 60))\r\n",
    "\r\n",
    "    return elapsed_mins, elapsed_secs"
   ],
   "outputs": [],
   "metadata": {}
  },
  {
   "cell_type": "code",
   "execution_count": 16,
   "source": [
    "N_EPOCH = 10\r\n",
    "\r\n",
    "best_valid_loss = float('inf')\r\n",
    "\r\n",
    "for epoch in range(N_EPOCH):\r\n",
    "    start_time = time.time()\r\n",
    "\r\n",
    "    train_loss, train_acc = train(model, train_iter, optimizer, criterion)\r\n",
    "    valid_loss, valid_acc = evaluate(model, valid_iter, criterion)\r\n",
    "\r\n",
    "    end_time = time.time()\r\n",
    "\r\n",
    "    epoch_mins, epoch_secs = epoch_time(start_time, end_time)\r\n",
    "\r\n",
    "    if valid_loss < best_valid_loss:\r\n",
    "        best_valid_loss = valid_loss\r\n",
    "        torch.save(model.state_dict(), 'bestmodel1.pt')\r\n",
    "    \r\n",
    "    print(f'Epoch: {epoch+1:02}, Epoch time: {epoch_mins}m {epoch_secs}s')\r\n",
    "    print(f'\\ttrain loss: {train_loss:.3f}, train acc: {train_acc*100:.2f}%')\r\n",
    "    print(f'\\tvalid loss: {valid_loss:.3f}, valid acc: {valid_acc*100:.2f}%')"
   ],
   "outputs": [
    {
     "output_type": "stream",
     "name": "stdout",
     "text": [
      "Epoch: 01, Epoch time: 1m 59s\n",
      "\ttrain loss: 0.664, train acc: 43.37%\n",
      "\tvalid loss: 0.623, valid acc: 40.32%\n",
      "Epoch: 02, Epoch time: 2m 0s\n",
      "\ttrain loss: 0.620, train acc: 40.92%\n",
      "\tvalid loss: 0.516, valid acc: 34.53%\n",
      "Epoch: 03, Epoch time: 1m 58s\n",
      "\ttrain loss: 0.384, train acc: 16.48%\n",
      "\tvalid loss: 0.384, valid acc: 10.77%\n",
      "Epoch: 04, Epoch time: 1m 59s\n",
      "\ttrain loss: 0.242, train acc: 7.82%\n",
      "\tvalid loss: 0.385, valid acc: 8.60%\n",
      "Epoch: 05, Epoch time: 1m 59s\n",
      "\ttrain loss: 0.153, train acc: 4.62%\n",
      "\tvalid loss: 0.412, valid acc: 5.01%\n",
      "Epoch: 06, Epoch time: 1m 57s\n",
      "\ttrain loss: 0.081, train acc: 2.24%\n",
      "\tvalid loss: 0.498, valid acc: 4.23%\n",
      "Epoch: 07, Epoch time: 1m 58s\n",
      "\ttrain loss: 0.048, train acc: 1.23%\n",
      "\tvalid loss: 0.551, valid acc: 3.36%\n",
      "Epoch: 08, Epoch time: 1m 57s\n",
      "\ttrain loss: 0.032, train acc: 0.73%\n",
      "\tvalid loss: 0.610, valid acc: 2.52%\n"
     ]
    }
   ],
   "metadata": {
    "collapsed": true
   }
  },
  {
   "cell_type": "code",
   "execution_count": null,
   "source": [
    "model = RNN(INPUT_DIM, EMBDDING_DIM, HIDDEN_DIM, OUTPUT_DIM)\r\n",
    "model = model.to(device)\r\n",
    "\r\n",
    "model.load_state_dict(torch.load('bestmodel1.pt'))\r\n",
    "\r\n",
    "test_loss, test_acc = evaluate(model, test_iter, criterion)\r\n",
    "\r\n",
    "print(f'\\ttext loss: {test_loss:.3f}, test acc: {test_acc*100:.2f}%')"
   ],
   "outputs": [],
   "metadata": {}
  }
 ],
 "metadata": {
  "interpreter": {
   "hash": "ef35f4d57919dd7858b7d36ee9ae1e0dc52bc378b50574145c8845a25779d1f8"
  },
  "kernelspec": {
   "name": "python3",
   "display_name": "Python 3.7.10 64-bit ('nlp': conda)"
  },
  "language_info": {
   "codemirror_mode": {
    "name": "ipython",
    "version": 3
   },
   "file_extension": ".py",
   "mimetype": "text/x-python",
   "name": "python",
   "nbconvert_exporter": "python",
   "pygments_lexer": "ipython3",
   "version": "3.7.10"
  }
 },
 "nbformat": 4,
 "nbformat_minor": 5
}