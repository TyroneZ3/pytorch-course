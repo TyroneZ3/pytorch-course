{
 "cells": [
  {
   "cell_type": "code",
   "execution_count": 1,
   "id": "5ebb68a2",
   "metadata": {},
   "outputs": [],
   "source": [
    "import matplotlib.pyplot as plt\n",
    "import numpy as np\n",
    "import torch\n",
    "import torch.nn as nn\n",
    "import torchtext\n",
    "import tqdm\n",
    "import sys"
   ]
  },
  {
   "cell_type": "code",
   "execution_count": 2,
   "id": "df278a44",
   "metadata": {},
   "outputs": [],
   "source": [
    "train_iter = torchtext.datasets.IMDB(split='train')"
   ]
  },
  {
   "cell_type": "code",
   "execution_count": 3,
   "id": "ff95c8f4",
   "metadata": {},
   "outputs": [],
   "source": [
    "tokenizor = torchtext.data.utils.get_tokenizer('basic_english')"
   ]
  },
  {
   "cell_type": "code",
   "execution_count": 4,
   "id": "03ce3a37",
   "metadata": {},
   "outputs": [],
   "source": [
    "tokens = []\n",
    "for label, line in train_iter:\n",
    "    tokens += tokenizor(line)"
   ]
  },
  {
   "cell_type": "code",
   "execution_count": 5,
   "id": "3c82159b",
   "metadata": {},
   "outputs": [],
   "source": [
    "from collections import Counter, OrderedDict\n",
    "# from torchtext.vocab import Vocab\n",
    "\n",
    "counter = Counter(tokens) # unsorted dict\n",
    "sorted_tuples = sorted(counter.items(), key=lambda x: x[1], reverse=True)\n",
    "ordered_dict = OrderedDict(sorted_tuples)\n",
    "Vocab = torchtext.vocab.vocab(ordered_dict, min_freq=10)\n",
    "\n",
    "# adding <unk> token and default index\n",
    "unk_token = '<unk>'\n",
    "default_index = 0\n",
    "if unk_token not in Vocab:\n",
    "    Vocab.insert_token(unk_token, default_index)\n",
    "Vocab.set_default_index(default_index)\n",
    "\n",
    "# adding <pad> token\n",
    "Vocab.insert_token('<pad>', 1)"
   ]
  },
  {
   "cell_type": "code",
   "execution_count": 6,
   "id": "0566d676",
   "metadata": {
    "scrolled": true
   },
   "outputs": [],
   "source": [
    "from torch.utils.data import DataLoader, Dataset\n",
    "from torch.nn.utils.rnn import pad_sequence\n",
    "import random\n",
    "\n",
    "text_transform = lambda x: [Vocab[token] for token in tokenizor(x)]\n",
    "label_transform = lambda x: 1 if x == 'pos' else 0\n",
    "\n",
    "def collate_batch(batch):\n",
    "    label_list, text_list = [], []\n",
    "    for label, text in batch:\n",
    "        text_list.append(torch.tensor(text_transform(text)))\n",
    "        label_list.append(label_transform(label))\n",
    "    \n",
    "    return torch.tensor(label_list), pad_sequence(text_list, padding_value=Vocab['<pad>'])\n",
    "\n",
    "train_iter, test_iter = torchtext.datasets.IMDB(split=('train', 'test'))\n",
    "\n",
    "class dataset_from_iter(Dataset):\n",
    "    def __init__(self, train_iter):\n",
    "        self.labels, self.text = [], []\n",
    "        for label, line in train_iter:\n",
    "            self.labels.append(label)\n",
    "            self.text.append(line)\n",
    "    \n",
    "    def __getitem__(self, index):\n",
    "        return self.labels[index], self.text[index]\n",
    "    \n",
    "    def __len__(self):\n",
    "        return len(self.labels)\n",
    "\n",
    "train_dataset = dataset_from_iter(train_iter)"
   ]
  },
  {
   "cell_type": "code",
   "execution_count": 19,
   "id": "33de2408",
   "metadata": {},
   "outputs": [],
   "source": [
    "batch_size = 16\n",
    "\n",
    "n_train = len(train_dataset)\n",
    "split = n_train // 3\n",
    "indices = list(range(n_train))\n",
    "random.shuffle(indices)\n",
    "train_sampler = torch.utils.data.sampler.SubsetRandomSampler(indices[split:])\n",
    "valid_sampler = torch.utils.data.sampler.SubsetRandomSampler(indices[:split])\n",
    "\n",
    "train_dataloader = DataLoader(train_dataset, batch_size=batch_size, sampler=train_sampler, collate_fn=collate_batch)\n",
    "valid_dataloader = DataLoader(train_dataset, batch_size=batch_size, sampler=valid_sampler, collate_fn=collate_batch)\n",
    "test_dataloader = DataLoader(test_iter, batch_size=batch_size, collate_fn=collate_batch)"
   ]
  },
  {
   "cell_type": "code",
   "execution_count": 8,
   "id": "b0b64398",
   "metadata": {},
   "outputs": [],
   "source": [
    "class LSTM(nn.Module):\n",
    "    def __init__(self, vocab_size, embedding_dim, hidden_dim, output_dim, n_layers, bidirectional, dropout_rate, pad_index):\n",
    "        super().__init__()\n",
    "        self.embedding = nn.Embedding(vocab_size, embedding_dim, padding_idx=pad_index)\n",
    "        self.rnn = nn.LSTM(embedding_dim, hidden_dim, n_layers, bidirectional=bidirectional, dropout=dropout_rate)\n",
    "        self.fc = nn.Linear(hidden_dim*2 if bidirectional else hidden_dim, output_dim)\n",
    "        self.dropout = nn.Dropout(dropout_rate)\n",
    "    \n",
    "    def forward(self, text):\n",
    "        embedded = self.dropout(self.embedding(text))\n",
    "\n",
    "        packed_embedded = nn.utils.rnn.pack_padded_sequence(embedded, lengths=[embedded.size(0) for i in range(embedded.size(1))])\n",
    "\n",
    "        _, (hidden, _) = self.rnn(packed_embedded)\n",
    "\n",
    "        if self.rnn.bidirectional:\n",
    "            hidden = self.dropout(torch.cat([hidden[-1], hidden[-2]], dim=-1))\n",
    "            # [batch_size, hidden_dim * 2]\n",
    "        else:\n",
    "            hidden = self.dropout(hidden[-1])\n",
    "            # [batch_size, hidden_dim]\n",
    "        \n",
    "        predictions = self.fc(hidden)\n",
    "\n",
    "        return predictions\n"
   ]
  },
  {
   "cell_type": "code",
   "execution_count": 9,
   "id": "757df03b",
   "metadata": {},
   "outputs": [],
   "source": [
    "vocab_size = len(Vocab)\n",
    "embedding_dim = 300\n",
    "hidden_dim = 300\n",
    "output_dim = 2\n",
    "n_layers = 2\n",
    "bidirectional = True\n",
    "dropout_rate = 0.5\n",
    "\n",
    "model = LSTM(vocab_size, embedding_dim, hidden_dim, output_dim, n_layers, bidirectional, dropout_rate, pad_index=Vocab.get_stoi()['<pad>'])"
   ]
  },
  {
   "cell_type": "code",
   "execution_count": 10,
   "id": "8a04aa59",
   "metadata": {},
   "outputs": [],
   "source": [
    "# TODO\n",
    "# add pretrained model\n",
    "\n",
    "lr = 5e-4\n",
    "optimizer = torch.optim.Adam(model.parameters(), lr)\n",
    "criterion = nn.CrossEntropyLoss()\n",
    "device = torch.device('cuda' if torch.cuda.is_available() else 'cpu')\n",
    "# device = torch.device('cpu')\n",
    "\n",
    "model = model.to(device)\n",
    "criterion = criterion.to(device)"
   ]
  },
  {
   "cell_type": "code",
   "execution_count": 11,
   "id": "70201707",
   "metadata": {},
   "outputs": [],
   "source": [
    "def get_accuracy(preds, labels):\n",
    "    batch_size = preds.size(0)\n",
    "    predicted_classes = preds.argmax(1)\n",
    "    n_correct = predicted_classes.eq(labels).sum()\n",
    "    acc = n_correct / batch_size\n",
    "\n",
    "    return acc"
   ]
  },
  {
   "cell_type": "code",
   "execution_count": 12,
   "id": "d273e1a6",
   "metadata": {},
   "outputs": [],
   "source": [
    "def train(data_loader, model, criterion, optimizer, device):\n",
    "    model.train()\n",
    "    epoch_losses = []\n",
    "    epoch_accs = []\n",
    "\n",
    "    for labels, text in tqdm.tqdm(data_loader, desc='Training:  ', file=sys.stdout):\n",
    "        labels = labels.to(device)\n",
    "        text = text.to(device)\n",
    "\n",
    "        predictions = model(text)\n",
    "        loss = criterion(predictions, labels)\n",
    "        acc = get_accuracy(predictions, labels)\n",
    "\n",
    "        epoch_losses.append(loss.item())\n",
    "        epoch_accs.append(acc.item())\n",
    "\n",
    "        optimizer.zero_grad()\n",
    "        loss.backward()\n",
    "        optimizer.step()\n",
    "\n",
    "    return epoch_losses, epoch_accs"
   ]
  },
  {
   "cell_type": "code",
   "execution_count": 13,
   "id": "94de0d2f",
   "metadata": {},
   "outputs": [],
   "source": [
    "def evaluate(data_loader, model, criterion, device):\n",
    "    model.eval()\n",
    "    losses = []\n",
    "    accs = []\n",
    "\n",
    "    with torch.no_grad():\n",
    "        for labels, text in tqdm.tqdm(data_loader, desc='Evaluating:', file=sys.stdout):\n",
    "            labels = labels.to(device)\n",
    "            text = text.to(device)\n",
    "\n",
    "            predictions = model(text)\n",
    "            loss = criterion(predictions, labels)\n",
    "            acc = get_accuracy(predictions, labels)\n",
    "\n",
    "            losses.append(loss.item())\n",
    "            accs.append(acc.item())\n",
    "        \n",
    "    return losses, accs"
   ]
  },
  {
   "cell_type": "code",
   "execution_count": 20,
   "id": "a4646a0c",
   "metadata": {
    "scrolled": false
   },
   "outputs": [
    {
     "name": "stdout",
     "output_type": "stream",
     "text": [
      "Training:  : 100%|███████████████████████████████████████████████████████| 1042/1042 [05:31<00:00,  3.14it/s]\n",
      "Evaluating:: 100%|█████████████████████████████████████████████████████████| 521/521 [18:09<00:00,  2.09s/it]\n",
      "epoch: 01\n",
      "train loss: 0.664, train acc: 0.586\n",
      "valid loss: 0.699, valid acc: 0.501\n",
      "Training:  : 100%|███████████████████████████████████████████████████████| 1042/1042 [05:24<00:00,  3.21it/s]\n",
      "Evaluating:: 100%|█████████████████████████████████████████████████████████| 521/521 [00:47<00:00, 10.98it/s]\n",
      "epoch: 02\n",
      "train loss: 0.676, train acc: 0.567\n",
      "valid loss: 0.632, valid acc: 0.671\n",
      "Training:  : 100%|███████████████████████████████████████████████████████| 1042/1042 [05:28<00:00,  3.18it/s]\n",
      "Evaluating:: 100%|█████████████████████████████████████████████████████████| 521/521 [00:48<00:00, 10.64it/s]\n",
      "epoch: 03\n",
      "train loss: 0.611, train acc: 0.667\n",
      "valid loss: 0.556, valid acc: 0.710\n",
      "Training:  : 100%|███████████████████████████████████████████████████████| 1042/1042 [05:28<00:00,  3.17it/s]\n",
      "Evaluating:: 100%|█████████████████████████████████████████████████████████| 521/521 [00:48<00:00, 10.84it/s]\n",
      "epoch: 04\n",
      "train loss: 0.542, train acc: 0.728\n",
      "valid loss: 0.493, valid acc: 0.777\n",
      "Training:  : 100%|███████████████████████████████████████████████████████| 1042/1042 [05:30<00:00,  3.15it/s]\n",
      "Evaluating:: 100%|█████████████████████████████████████████████████████████| 521/521 [00:48<00:00, 10.72it/s]\n",
      "epoch: 05\n",
      "train loss: 0.479, train acc: 0.775\n",
      "valid loss: 0.576, valid acc: 0.707\n",
      "Training:  : 100%|███████████████████████████████████████████████████████| 1042/1042 [05:28<00:00,  3.17it/s]\n",
      "Evaluating:: 100%|█████████████████████████████████████████████████████████| 521/521 [00:48<00:00, 10.67it/s]\n",
      "epoch: 06\n",
      "train loss: 0.453, train acc: 0.793\n",
      "valid loss: 0.451, valid acc: 0.812\n",
      "Training:  : 100%|███████████████████████████████████████████████████████| 1042/1042 [05:26<00:00,  3.19it/s]\n",
      "Evaluating:: 100%|█████████████████████████████████████████████████████████| 521/521 [00:48<00:00, 10.77it/s]\n",
      "epoch: 07\n",
      "train loss: 0.343, train acc: 0.860\n",
      "valid loss: 0.359, valid acc: 0.851\n",
      "Training:  : 100%|███████████████████████████████████████████████████████| 1042/1042 [05:32<00:00,  3.13it/s]\n",
      "Evaluating:: 100%|█████████████████████████████████████████████████████████| 521/521 [00:49<00:00, 10.55it/s]\n",
      "epoch: 08\n",
      "train loss: 0.298, train acc: 0.878\n",
      "valid loss: 0.336, valid acc: 0.876\n",
      "Training:  : 100%|███████████████████████████████████████████████████████| 1042/1042 [05:28<00:00,  3.17it/s]\n",
      "Evaluating:: 100%|█████████████████████████████████████████████████████████| 521/521 [00:48<00:00, 10.75it/s]\n",
      "epoch: 09\n",
      "train loss: 0.270, train acc: 0.893\n",
      "valid loss: 0.342, valid acc: 0.863\n",
      "Training:  : 100%|███████████████████████████████████████████████████████| 1042/1042 [05:27<00:00,  3.18it/s]\n",
      "Evaluating:: 100%|█████████████████████████████████████████████████████████| 521/521 [00:48<00:00, 10.77it/s]\n",
      "epoch: 10\n",
      "train loss: 0.241, train acc: 0.905\n",
      "valid loss: 0.339, valid acc: 0.875\n"
     ]
    }
   ],
   "source": [
    "n_epoch = 10\n",
    "best_valid_loss = float('inf')\n",
    "train_losses = []\n",
    "train_accs = []\n",
    "valid_losses = []\n",
    "valid_accs = []\n",
    "\n",
    "for epoch in range(n_epoch):\n",
    "    train_loss, train_acc = train(train_dataloader, model, criterion, optimizer, device)\n",
    "    valid_loss, valid_acc = evaluate(valid_dataloader, model, criterion, device)\n",
    "\n",
    "    train_losses.extend(train_loss)\n",
    "    train_accs.extend(train_acc)\n",
    "    valid_losses.extend(valid_loss)\n",
    "    valid_accs.extend(valid_acc)\n",
    "\n",
    "    train_loss_mean = np.mean(train_loss)\n",
    "    train_acc_mean = np.mean(train_acc)\n",
    "    valid_loss_mean = np.mean(valid_loss)\n",
    "    valid_acc_mean = np.mean(valid_acc)\n",
    "\n",
    "    if valid_loss_mean < best_valid_loss:\n",
    "        best_valid_loss = valid_loss_mean\n",
    "        torch.save(model.state_dict(), 'best_model2')\n",
    "    \n",
    "    print(f'epoch: {epoch+1:02}')\n",
    "    print(f'train loss: {train_loss_mean:.3f}, train acc: {train_acc_mean:.3f}')\n",
    "    print(f'valid loss: {valid_loss_mean:.3f}, valid acc: {valid_acc_mean:.3f}')"
   ]
  },
  {
   "cell_type": "code",
   "execution_count": 15,
   "id": "e326c07b",
   "metadata": {
    "collapsed": true
   },
   "outputs": [
    {
     "data": {
      "text/plain": [
       "Text(0, 0.5, 'loss')"
      ]
     },
     "execution_count": 15,
     "metadata": {},
     "output_type": "execute_result"
    },
    {
     "data": {
      "image/png": "[encoded data removed]",
      "text/plain": [
       "<Figure size 720x432 with 1 Axes>"
      ]
     },
     "metadata": {
      "needs_background": "light"
     },
     "output_type": "display_data"
    }
   ],
   "source": [
    "fig = plt.figure(figsize=(10, 6))\n",
    "ax = fig.add_subplot(1, 1, 1)\n",
    "ax.plot(train_losses, label='train loss')\n",
    "ax.plot(valid_losses, label='valid loss')\n",
    "plt.legend()\n",
    "ax.set_xlabel('updates')\n",
    "ax.set_ylabel('loss')"
   ]
  },
  {
   "cell_type": "code",
   "execution_count": 21,
   "id": "5d974c51",
   "metadata": {},
   "outputs": [
    {
     "name": "stdout",
     "output_type": "stream",
     "text": [
      "Evaluating:: 100%|███████████████████████████████████████████████████████| 1563/1563 [02:19<00:00, 11.19it/s]\n",
      "test loss: 0.306, test acc: 0.886\n"
     ]
    }
   ],
   "source": [
    "model.load_state_dict(torch.load('best_model'))\n",
    "test_loss, test_acc = evaluate(test_dataloader, model, criterion, device)\n",
    "\n",
    "test_loss_mean = np.mean(test_loss)\n",
    "test_acc_mean = np.mean(test_acc)\n",
    "\n",
    "print(f'test loss: {test_loss_mean:.3f}, test acc: {test_acc_mean:.3f}')"
   ]
  }
 ],
 "metadata": {
  "interpreter": {
   "hash": "ef35f4d57919dd7858b7d36ee9ae1e0dc52bc378b50574145c8845a25779d1f8"
  },
  "kernelspec": {
   "display_name": "Python 3",
   "language": "python",
   "name": "python3"
  },
  "language_info": {
   "codemirror_mode": {
    "name": "ipython",
    "version": 3
   },
   "file_extension": ".py",
   "mimetype": "text/x-python",
   "name": "python",
   "nbconvert_exporter": "python",
   "pygments_lexer": "ipython3",
   "version": "3.7.10"
  }
 },
 "nbformat": 4,
 "nbformat_minor": 5
}
