{
 "cells": [
  {
   "cell_type": "code",
   "execution_count": 1,
   "source": [
    "import matplotlib.pyplot as plt\r\n",
    "import numpy as np\r\n",
    "import torch\r\n",
    "import torch.nn as nn\r\n",
    "import torchtext\r\n",
    "import tqdm\r\n",
    "import sys"
   ],
   "outputs": [],
   "metadata": {}
  },
  {
   "cell_type": "code",
   "execution_count": 2,
   "source": [
    "train_iter = torchtext.datasets.IMDB(split='train')"
   ],
   "outputs": [],
   "metadata": {}
  },
  {
   "cell_type": "code",
   "execution_count": 3,
   "source": [
    "tokenizor = torchtext.data.utils.get_tokenizer('basic_english')"
   ],
   "outputs": [],
   "metadata": {}
  },
  {
   "cell_type": "code",
   "execution_count": 4,
   "source": [
    "tokens = []\r\n",
    "for label, line in train_iter:\r\n",
    "    tokens += tokenizor(line)"
   ],
   "outputs": [],
   "metadata": {}
  },
  {
   "cell_type": "code",
   "execution_count": 5,
   "source": [
    "from collections import Counter, OrderedDict\r\n",
    "# from torchtext.vocab import Vocab\r\n",
    "\r\n",
    "counter = Counter(tokens) # unsorted dict\r\n",
    "sorted_tuples = sorted(counter.items(), key=lambda x: x[1], reverse=True)\r\n",
    "ordered_dict = OrderedDict(sorted_tuples)\r\n",
    "Vocab = torchtext.vocab.vocab(ordered_dict, min_freq=10)\r\n",
    "\r\n",
    "# adding <unk> token and default index\r\n",
    "unk_token = '<unk>'\r\n",
    "default_index = 0\r\n",
    "if unk_token not in Vocab:\r\n",
    "    Vocab.insert_token(unk_token, default_index)\r\n",
    "Vocab.set_default_index(default_index)\r\n",
    "\r\n",
    "# adding <pad> token\r\n",
    "Vocab.insert_token('<pad>', 1)"
   ],
   "outputs": [],
   "metadata": {}
  },
  {
   "cell_type": "code",
   "execution_count": 6,
   "source": [
    "from torch.utils.data import DataLoader, Dataset\r\n",
    "from torch.nn.utils.rnn import pad_sequence\r\n",
    "import random\r\n",
    "\r\n",
    "text_transform = lambda x: [Vocab[token] for token in tokenizor(x)]\r\n",
    "label_transform = lambda x: 1 if x == 'pos' else 0\r\n",
    "\r\n",
    "def collate_batch(batch):\r\n",
    "    label_list, text_list, text_lengths = [], [], []\r\n",
    "    for label, text in batch:\r\n",
    "        text_list.append(torch.tensor(text_transform(text)))\r\n",
    "        text_lengths.append(len(text_list[-1]))\r\n",
    "        label_list.append(label_transform(label))\r\n",
    "\r\n",
    "    return torch.tensor(label_list), pad_sequence(text_list, padding_value=Vocab['<pad>']), text_lengths\r\n",
    "\r\n",
    "train_iter, test_iter = torchtext.datasets.IMDB(split=('train', 'test'))\r\n",
    "\r\n",
    "class dataset_from_iter(Dataset):\r\n",
    "    def __init__(self, train_iter):\r\n",
    "        self.labels, self.text = [], []\r\n",
    "        for label, line in train_iter:\r\n",
    "            self.labels.append(label)\r\n",
    "            self.text.append(line)\r\n",
    "    \r\n",
    "    def __getitem__(self, index):\r\n",
    "        return self.labels[index], self.text[index]\r\n",
    "    \r\n",
    "    def __len__(self):\r\n",
    "        return len(self.labels)\r\n",
    "\r\n",
    "train_dataset = dataset_from_iter(train_iter)"
   ],
   "outputs": [],
   "metadata": {
    "scrolled": true
   }
  },
  {
   "cell_type": "code",
   "execution_count": 7,
   "source": [
    "batch_size = 95\r\n",
    "\r\n",
    "n_train = len(train_dataset)\r\n",
    "split = n_train // 3\r\n",
    "indices = list(range(n_train))\r\n",
    "random.shuffle(indices)\r\n",
    "train_sampler = torch.utils.data.sampler.SubsetRandomSampler(indices[split:])\r\n",
    "valid_sampler = torch.utils.data.sampler.SubsetRandomSampler(indices[:split])\r\n",
    "\r\n",
    "train_dataloader = DataLoader(train_dataset, batch_size=batch_size, sampler=train_sampler, collate_fn=collate_batch)\r\n",
    "valid_dataloader = DataLoader(train_dataset, batch_size=batch_size, sampler=valid_sampler, collate_fn=collate_batch)\r\n",
    "test_dataloader = DataLoader(test_iter, batch_size=batch_size, collate_fn=collate_batch)"
   ],
   "outputs": [],
   "metadata": {}
  },
  {
   "cell_type": "code",
   "execution_count": 8,
   "source": [
    "class LSTM(nn.Module):\r\n",
    "    def __init__(self, vocab_size, embedding_dim, hidden_dim, output_dim, n_layers, bidirectional, dropout_rate, pad_index):\r\n",
    "        super().__init__()\r\n",
    "        self.embedding = nn.Embedding(vocab_size, embedding_dim, padding_idx=pad_index)\r\n",
    "        self.rnn = nn.LSTM(embedding_dim, hidden_dim, n_layers, bidirectional=bidirectional, dropout=dropout_rate)\r\n",
    "        self.fc = nn.Linear(hidden_dim*2 if bidirectional else hidden_dim, output_dim)\r\n",
    "        self.dropout = nn.Dropout(dropout_rate)\r\n",
    "    \r\n",
    "    def forward(self, text, text_lengths):\r\n",
    "        embedded = self.dropout(self.embedding(text))\r\n",
    "\r\n",
    "        packed_embedded = nn.utils.rnn.pack_padded_sequence(embedded, lengths=text_lengths, enforce_sorted=False)\r\n",
    "\r\n",
    "        _, (hidden, _) = self.rnn(packed_embedded)\r\n",
    "\r\n",
    "        if self.rnn.bidirectional:\r\n",
    "            hidden = self.dropout(torch.cat([hidden[-1], hidden[-2]], dim=-1))\r\n",
    "            # [batch_size, hidden_dim * 2]\r\n",
    "        else:\r\n",
    "            hidden = self.dropout(hidden[-1])\r\n",
    "            # [batch_size, hidden_dim]\r\n",
    "        \r\n",
    "        predictions = self.fc(hidden)\r\n",
    "\r\n",
    "        return predictions"
   ],
   "outputs": [],
   "metadata": {}
  },
  {
   "cell_type": "code",
   "execution_count": 9,
   "source": [
    "vocab_size = len(Vocab)\r\n",
    "embedding_dim = 300\r\n",
    "hidden_dim = 300\r\n",
    "output_dim = 2\r\n",
    "n_layers = 2\r\n",
    "bidirectional = True\r\n",
    "dropout_rate = 0.5\r\n",
    "\r\n",
    "model = LSTM(vocab_size, embedding_dim, hidden_dim, output_dim, n_layers, bidirectional, dropout_rate, pad_index=Vocab.get_stoi()['<pad>'])"
   ],
   "outputs": [],
   "metadata": {}
  },
  {
   "cell_type": "code",
   "execution_count": 10,
   "source": [
    "# pretrained embedding model\r\n",
    "# vectors = torchtext.vocab.FastText()\r\n",
    "# pretrained_embeddeing = vectors(Vocab.get_itos())\r\n",
    "# model.embedding.weight.data = pretrained_embeddeing"
   ],
   "outputs": [],
   "metadata": {}
  },
  {
   "cell_type": "code",
   "execution_count": 11,
   "source": [
    "lr = 5e-4\r\n",
    "optimizer = torch.optim.Adam(model.parameters(), lr)\r\n",
    "criterion = nn.CrossEntropyLoss()\r\n",
    "device = torch.device('cuda' if torch.cuda.is_available() else 'cpu')\r\n",
    "# device = torch.device('cpu')\r\n",
    "\r\n",
    "model = model.to(device)\r\n",
    "criterion = criterion.to(device)"
   ],
   "outputs": [],
   "metadata": {}
  },
  {
   "cell_type": "code",
   "execution_count": 12,
   "source": [
    "def get_accuracy(preds, labels):\r\n",
    "    batch_size = preds.size(0)\r\n",
    "    predicted_classes = preds.argmax(1)\r\n",
    "    n_correct = predicted_classes.eq(labels).sum()\r\n",
    "    acc = n_correct / batch_size\r\n",
    "\r\n",
    "    return acc"
   ],
   "outputs": [],
   "metadata": {}
  },
  {
   "cell_type": "code",
   "execution_count": 13,
   "source": [
    "def train(data_loader, model, criterion, optimizer, device):\r\n",
    "    model.train()\r\n",
    "    epoch_losses = []\r\n",
    "    epoch_accs = []\r\n",
    "\r\n",
    "    for labels, text, text_lengths in tqdm.tqdm(data_loader, desc='Training  ', file=sys.stdout):\r\n",
    "        labels = labels.to(device)\r\n",
    "        text = text.to(device)\r\n",
    "\r\n",
    "        predictions = model(text, text_lengths)\r\n",
    "        loss = criterion(predictions, labels)\r\n",
    "        acc = get_accuracy(predictions, labels)\r\n",
    "\r\n",
    "        epoch_losses.append(loss.item())\r\n",
    "        epoch_accs.append(acc.item())\r\n",
    "\r\n",
    "        optimizer.zero_grad()\r\n",
    "        loss.backward()\r\n",
    "        optimizer.step()\r\n",
    "\r\n",
    "    return epoch_losses, epoch_accs"
   ],
   "outputs": [],
   "metadata": {}
  },
  {
   "cell_type": "code",
   "execution_count": 14,
   "source": [
    "def evaluate(data_loader, model, criterion, device):\r\n",
    "    model.eval()\r\n",
    "    losses = []\r\n",
    "    accs = []\r\n",
    "\r\n",
    "    with torch.no_grad():\r\n",
    "        for labels, text, text_lengths in tqdm.tqdm(data_loader, desc='Evaluating', file=sys.stdout):\r\n",
    "            labels = labels.to(device)\r\n",
    "            text = text.to(device)\r\n",
    "\r\n",
    "            predictions = model(text, text_lengths)\r\n",
    "            loss = criterion(predictions, labels)\r\n",
    "            acc = get_accuracy(predictions, labels)\r\n",
    "\r\n",
    "            losses.append(loss.item())\r\n",
    "            accs.append(acc.item())\r\n",
    "        \r\n",
    "    return losses, accs"
   ],
   "outputs": [],
   "metadata": {}
  },
  {
   "cell_type": "code",
   "execution_count": 15,
   "source": [
    "n_epoch = 10\r\n",
    "best_valid_loss = float('inf')\r\n",
    "train_losses = []\r\n",
    "train_accs = []\r\n",
    "valid_losses = []\r\n",
    "valid_accs = []\r\n",
    "\r\n",
    "for epoch in range(n_epoch):\r\n",
    "    train_loss, train_acc = train(train_dataloader, model, criterion, optimizer, device)\r\n",
    "    valid_loss, valid_acc = evaluate(valid_dataloader, model, criterion, device)\r\n",
    "\r\n",
    "    train_losses.extend(train_loss)\r\n",
    "    train_accs.extend(train_acc)\r\n",
    "    valid_losses.extend(valid_loss)\r\n",
    "    valid_accs.extend(valid_acc)\r\n",
    "\r\n",
    "    train_loss_mean = np.mean(train_loss)\r\n",
    "    train_acc_mean = np.mean(train_acc)\r\n",
    "    valid_loss_mean = np.mean(valid_loss)\r\n",
    "    valid_acc_mean = np.mean(valid_acc)\r\n",
    "\r\n",
    "    if valid_loss_mean < best_valid_loss:\r\n",
    "        best_valid_loss = valid_loss_mean\r\n",
    "        torch.save(model.state_dict(), 'best_model2')\r\n",
    "    \r\n",
    "    print(f'epoch: {epoch+1:02}')\r\n",
    "    print(f'train loss: {train_loss_mean:.3f}, train acc: {train_acc_mean*100:.2f}%')\r\n",
    "    print(f'valid loss: {valid_loss_mean:.3f}, valid acc: {valid_acc_mean*100:.2f}%')"
   ],
   "outputs": [
    {
     "output_type": "stream",
     "name": "stdout",
     "text": [
      "Training  : 100%|██████████| 176/176 [02:00<00:00,  1.46it/s]\n",
      "Evaluating: 100%|██████████| 88/88 [00:21<00:00,  4.11it/s]\n",
      "epoch: 01\n",
      "train loss: 0.644, train acc: 62.45%\n",
      "valid loss: 0.577, valid acc: 70.49%\n",
      "Training  : 100%|██████████| 176/176 [01:59<00:00,  1.47it/s]\n",
      "Evaluating: 100%|██████████| 88/88 [00:21<00:00,  4.12it/s]\n",
      "epoch: 02\n",
      "train loss: 0.552, train acc: 71.63%\n",
      "valid loss: 0.729, valid acc: 68.27%\n",
      "Training  : 100%|██████████| 176/176 [01:59<00:00,  1.48it/s]\n",
      "Evaluating: 100%|██████████| 88/88 [00:21<00:00,  4.11it/s]\n",
      "epoch: 03\n",
      "train loss: 0.492, train acc: 76.32%\n",
      "valid loss: 0.449, valid acc: 79.63%\n",
      "Training  : 100%|██████████| 176/176 [01:59<00:00,  1.47it/s]\n",
      "Evaluating: 100%|██████████| 88/88 [00:21<00:00,  4.11it/s]\n",
      "epoch: 04\n",
      "train loss: 0.444, train acc: 79.27%\n",
      "valid loss: 0.410, valid acc: 81.03%\n",
      "Training  : 100%|██████████| 176/176 [02:00<00:00,  1.46it/s]\n",
      "Evaluating: 100%|██████████| 88/88 [00:21<00:00,  4.01it/s]\n",
      "epoch: 05\n",
      "train loss: 0.417, train acc: 80.76%\n",
      "valid loss: 0.735, valid acc: 68.68%\n",
      "Training  : 100%|██████████| 176/176 [02:00<00:00,  1.46it/s]\n",
      "Evaluating: 100%|██████████| 88/88 [00:21<00:00,  4.09it/s]\n",
      "epoch: 06\n",
      "train loss: 0.431, train acc: 80.08%\n",
      "valid loss: 0.959, valid acc: 63.44%\n",
      "Training  : 100%|██████████| 176/176 [01:59<00:00,  1.47it/s]\n",
      "Evaluating: 100%|██████████| 88/88 [00:21<00:00,  4.09it/s]\n",
      "epoch: 07\n",
      "train loss: 0.361, train acc: 84.24%\n",
      "valid loss: 0.575, valid acc: 78.79%\n",
      "Training  : 100%|██████████| 176/176 [01:59<00:00,  1.47it/s]\n",
      "Evaluating: 100%|██████████| 88/88 [00:21<00:00,  4.10it/s]\n",
      "epoch: 08\n",
      "train loss: 0.352, train acc: 84.90%\n",
      "valid loss: 0.529, valid acc: 76.93%\n",
      "Training  : 100%|██████████| 176/176 [01:59<00:00,  1.47it/s]\n",
      "Evaluating: 100%|██████████| 88/88 [00:21<00:00,  4.09it/s]\n",
      "epoch: 09\n",
      "train loss: 0.392, train acc: 82.74%\n",
      "valid loss: 0.722, valid acc: 76.43%\n",
      "Training  : 100%|██████████| 176/176 [01:59<00:00,  1.48it/s]\n",
      "Evaluating: 100%|██████████| 88/88 [00:21<00:00,  4.11it/s]\n",
      "epoch: 10\n",
      "train loss: 0.331, train acc: 85.65%\n",
      "valid loss: 0.404, valid acc: 83.93%\n"
     ]
    }
   ],
   "metadata": {
    "scrolled": false
   }
  },
  {
   "cell_type": "code",
   "execution_count": 23,
   "source": [
    "'''\r\n",
    "fig = plt.figure(figsize=(10, 6))\r\n",
    "ax = fig.add_subplot(1, 1, 1)\r\n",
    "ax.plot(train_losses, label='train loss')\r\n",
    "ax.plot(valid_losses, label='valid loss')\r\n",
    "plt.legend()\r\n",
    "ax.set_xlabel('updates')\r\n",
    "ax.set_ylabel('loss')\r\n",
    "'''\r\n",
    "x_train = list(range(1760))\r\n",
    "x_eval = list(range(0, 1760, 2))\r\n",
    "\r\n",
    "plt.plot(x_train, train_losses, label='train loss')\r\n",
    "plt.plot(x_eval, valid_losses, label='valid loss')\r\n",
    "\r\n",
    "plt.legend()\r\n",
    "plt.show()"
   ],
   "outputs": [
    {
     "output_type": "display_data",
     "data": {
      "text/plain": [
       "<Figure size 432x288 with 1 Axes>"
      ],
      "image/png": "[encoded data removed]"
     },
     "metadata": {
      "needs_background": "light"
     }
    }
   ],
   "metadata": {
    "collapsed": true
   }
  },
  {
   "cell_type": "code",
   "execution_count": 17,
   "source": [
    "model.load_state_dict(torch.load('best_model'))\r\n",
    "test_loss, test_acc = evaluate(test_dataloader, model, criterion, device)\r\n",
    "\r\n",
    "test_loss_mean = np.mean(test_loss)\r\n",
    "test_acc_mean = np.mean(test_acc)\r\n",
    "\r\n",
    "print(f'test loss: {test_loss_mean:.3f}, test acc: {test_acc_mean*100:.2f}%')"
   ],
   "outputs": [
    {
     "output_type": "stream",
     "name": "stdout",
     "text": [
      "Evaluating: 100%|██████████| 264/264 [02:17<00:00,  1.93it/s]\n",
      "test loss: 0.312, test acc: 88.40%\n"
     ]
    }
   ],
   "metadata": {}
  }
 ],
 "metadata": {
  "interpreter": {
   "hash": "ef35f4d57919dd7858b7d36ee9ae1e0dc52bc378b50574145c8845a25779d1f8"
  },
  "kernelspec": {
   "name": "python3",
   "display_name": "Python 3.7.10 64-bit ('nlp': conda)"
  },
  "language_info": {
   "codemirror_mode": {
    "name": "ipython",
    "version": 3
   },
   "file_extension": ".py",
   "mimetype": "text/x-python",
   "name": "python",
   "nbconvert_exporter": "python",
   "pygments_lexer": "ipython3",
   "version": "3.7.10"
  }
 },
 "nbformat": 4,
 "nbformat_minor": 5
}