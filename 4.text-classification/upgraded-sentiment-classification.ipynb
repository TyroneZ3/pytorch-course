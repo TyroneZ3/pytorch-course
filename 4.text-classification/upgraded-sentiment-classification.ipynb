{
 "cells": [
  {
   "cell_type": "code",
   "execution_count": 5,
   "source": [
    "import functools\r\n",
    "import sys\r\n",
    "\r\n",
    "import matplotlib.pyplot as plt\r\n",
    "import numpy as np\r\n",
    "import torch\r\n",
    "import torch.nn as nn\r\n",
    "import torchtext\r\n",
    "import tqdm\r\n",
    "\r\n",
    "print(sys.executable)"
   ],
   "outputs": [
    {
     "output_type": "stream",
     "name": "stdout",
     "text": [
      "C:\\Users\\Tyrone\\anaconda3\\envs\\nlp\\python.exe\n"
     ]
    }
   ],
   "metadata": {}
  },
  {
   "cell_type": "code",
   "execution_count": 6,
   "source": [
    "train_iter = torchtext.datasets.IMDB(split='train')"
   ],
   "outputs": [],
   "metadata": {}
  },
  {
   "cell_type": "code",
   "execution_count": 8,
   "source": [
    "tokenizor = torchtext.data.utils.get_tokenizer('basic_english')"
   ],
   "outputs": [],
   "metadata": {}
  },
  {
   "cell_type": "code",
   "execution_count": 9,
   "source": [
    "tokens = []\r\n",
    "for label, line in train_iter:\r\n",
    "    tokens += tokenizor(line)"
   ],
   "outputs": [],
   "metadata": {}
  },
  {
   "cell_type": "code",
   "execution_count": 10,
   "source": [
    "from collections import Counter, OrderedDict\r\n",
    "# from torchtext.vocab import Vocab\r\n",
    "\r\n",
    "counter = Counter(tokens) # unsorted dict\r\n",
    "sorted_tuples = sorted(counter.items(), key=lambda x: x[1], reverse=True)\r\n",
    "ordered_dict = OrderedDict(sorted_tuples)\r\n",
    "Vocab = torchtext.vocab.vocab(ordered_dict, min_freq=10)\r\n",
    "\r\n",
    "# adding <unk> token and default index\r\n",
    "unk_token = '<unk>'\r\n",
    "default_index = 0\r\n",
    "if unk_token not in Vocab:\r\n",
    "    Vocab.insert_token(unk_token, default_index)\r\n",
    "Vocab.set_default_index(default_index)\r\n",
    "\r\n",
    "# adding <pad> token\r\n",
    "Vocab.insert_token('<pad>', 1)"
   ],
   "outputs": [],
   "metadata": {}
  },
  {
   "cell_type": "code",
   "execution_count": 23,
   "source": [
    "from torch.utils.data import DataLoader, Dataset\r\n",
    "from torch.nn.utils.rnn import pad_sequence\r\n",
    "import random\r\n",
    "\r\n",
    "text_transform = lambda x: [Vocab[token] for token in tokenizor(x)]\r\n",
    "label_transform = lambda x: 1 if x == 'pos' else 0\r\n",
    "\r\n",
    "def collate_batch(batch):\r\n",
    "    label_list, text_list = [], []\r\n",
    "    for label, text in batch:\r\n",
    "        text_list.append(torch.tensor(text_transform(text)))\r\n",
    "        label_list.append(label_transform(label))\r\n",
    "    \r\n",
    "    return torch.tensor(label_list), pad_sequence(text_list, padding_value=Vocab['<pad>'])\r\n",
    "\r\n",
    "train_iter, test_iter = torchtext.datasets.IMDB(split=('train', 'test'))\r\n",
    "\r\n",
    "class dataset_from_iter(Dataset):\r\n",
    "    def __init__(self, train_iter):\r\n",
    "        self.labels, self.text = [], []\r\n",
    "        for label, line in train_iter:\r\n",
    "            self.labels.append(label)\r\n",
    "            self.text.append(line)\r\n",
    "    \r\n",
    "    def __getitem__(self, index):\r\n",
    "        return self.labels[index], self.text[index]\r\n",
    "    \r\n",
    "    def __len__(self):\r\n",
    "        return len(self.labels)\r\n",
    "\r\n",
    "train_dataset = dataset_from_iter(train_iter)\r\n",
    "\r\n",
    "n_train = len(train_dataset)\r\n",
    "split = n_train // 3\r\n",
    "indices = list(range(n_train))\r\n",
    "random.shuffle(indices)\r\n",
    "train_sampler = torch.utils.data.sampler.SubsetRandomSampler(indices[split:])\r\n",
    "valid_sampler = torch.utils.data.sampler.SubsetRandomSampler(indices[:split])\r\n",
    "\r\n",
    "train_dataloader = DataLoader(train_dataset, batch_size=8, sampler=train_sampler, collate_fn=collate_batch)\r\n",
    "valid_dataloader = DataLoader(train_dataset, batch_size=8, sampler=valid_sampler, collate_fn=collate_batch)\r\n",
    "test_dataloader = DataLoader(test_iter, batch_size=8, collate_fn=collate_batch)"
   ],
   "outputs": [],
   "metadata": {
    "scrolled": true
   }
  },
  {
   "cell_type": "code",
   "execution_count": 27,
   "source": [
    "class LSTM(nn.Module):\r\n",
    "    def __init__(self, vocab_size, embedding_dim, hidden_dim, output_dim, n_layers, bidirectional, dropout_rate):\r\n",
    "        super().__init__()\r\n",
    "        self.embedding = nn.Embedding(vocab_size, embedding_dim, padding_idx=pad_index)\r\n",
    "        self.lstm = nn.LSTM(embedding_dim, hidden_dim, n_layers, bidirectional)\r\n",
    "        self.fc = nn.Linear(hidden_dim*2 if bidirectional else hidden_dim, output_dim)\r\n",
    "        self.dropout = nn.Dropout(dropout_rate)\r\n",
    "    \r\n",
    "    def forward(self, text):\r\n",
    "        embedded = self.dropout(self.embedding(text))\r\n",
    "        packed_embedded = nn.utils.rnn.pack_padded_sequence(embedded, lengths=[embedded.size(1) for i in range(embedded.size(0))])\r\n",
    "\r\n",
    "        _, (hidden, _) = self.lstm(packed_embedded)\r\n",
    "\r\n",
    "        if self.lstm.bidirectional:\r\n",
    "            hidden = self.dropout(torch.cat([hidden[-1], hidden[-2]], dim=-1))"
   ],
   "outputs": [
    {
     "output_type": "execute_result",
     "data": {
      "text/plain": [
       "1042"
      ]
     },
     "metadata": {},
     "execution_count": 27
    }
   ],
   "metadata": {}
  }
 ],
 "metadata": {
  "kernelspec": {
   "name": "python3",
   "display_name": "Python 3.7.10 64-bit ('nlp': conda)"
  },
  "language_info": {
   "codemirror_mode": {
    "name": "ipython",
    "version": 3
   },
   "file_extension": ".py",
   "mimetype": "text/x-python",
   "name": "python",
   "nbconvert_exporter": "python",
   "pygments_lexer": "ipython3",
   "version": "3.7.10"
  },
  "interpreter": {
   "hash": "ef35f4d57919dd7858b7d36ee9ae1e0dc52bc378b50574145c8845a25779d1f8"
  }
 },
 "nbformat": 4,
 "nbformat_minor": 5
}